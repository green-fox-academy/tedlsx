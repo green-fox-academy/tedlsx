{
 "cells": [
  {
   "cell_type": "markdown",
   "metadata": {},
   "source": [
    "Laptop in Alza.co.uk"
   ]
  },
  {
   "cell_type": "code",
   "execution_count": 6,
   "metadata": {},
   "outputs": [],
   "source": [
    "import requests\n",
    "from bs4 import BeautifulSoup\n",
    "import pandas\n",
    "from pandas.io.json import json"
   ]
  },
  {
   "cell_type": "code",
   "execution_count": 22,
   "metadata": {},
   "outputs": [],
   "source": [
    "import requests\n",
    "\n",
    "page = requests.get(\"https://www.alza.co.uk/gaming-laptops/18848814.htm\")\n",
    "\n",
    "soup = BeautifulSoup(page.content)"
   ]
  },
  {
   "cell_type": "markdown",
   "metadata": {},
   "source": [
    "find top 3 labtop's price"
   ]
  },
  {
   "cell_type": "code",
   "execution_count": 23,
   "metadata": {},
   "outputs": [
    {
     "data": {
      "text/plain": [
       "[<span class=\"c2\">£889</span>,\n",
       " <span class=\"c2\">£1,220.90</span>,\n",
       " <span class=\"c2\">£1,629</span>]"
      ]
     },
     "execution_count": 23,
     "metadata": {},
     "output_type": "execute_result"
    }
   ],
   "source": [
    "soup.find_all(\"span\", class_=\"c2\")[:3]  "
   ]
  },
  {
   "cell_type": "markdown",
   "metadata": {},
   "source": [
    "find top 3 laptop's name"
   ]
  },
  {
   "cell_type": "code",
   "execution_count": 21,
   "metadata": {},
   "outputs": [
    {
     "data": {
      "text/plain": [
       "[<a class=\"name browsinglink\" href=\"/lenovo-ideapad-720s-15kb?dq=5251042\">Lenovo IdeaPad 720s-15IKB Silver Metallic</a>,\n",
       " <a class=\"name browsinglink\" href=\"/lenovo-legion-y530-15ich-black-d5490009.htm\">Lenovo Legion Y530-15ICH Black</a>,\n",
       " <a class=\"name browsinglink\" href=\"/dell-g7-17-7790-gaming-black-d5549340.htm\">Dell G7 17 (7790) Gaming Black</a>]"
      ]
     },
     "execution_count": 21,
     "metadata": {},
     "output_type": "execute_result"
    }
   ],
   "source": [
    "soup.find_all(\"a\", class_=\"name browsinglink\")[:3]"
   ]
  },
  {
   "cell_type": "markdown",
   "metadata": {},
   "source": [
    "find another website"
   ]
  },
  {
   "cell_type": "code",
   "execution_count": 29,
   "metadata": {},
   "outputs": [],
   "source": [
    "new_page = requests.get(\"https://list.tmall.com/search_product.htm?spm=a220m.1000858.1000727.1.5b777c5bj2yNkf&style=g&vmarket=0&q=%B1%CA%BC%C7%B1%BE&frm=&from=rs_1_key-noresult&active=2\")\n",
    "new_soup = BeautifulSoup(new_page.content)"
   ]
  },
  {
   "cell_type": "code",
   "execution_count": 31,
   "metadata": {},
   "outputs": [
    {
     "data": {
      "text/plain": [
       "[<p class=\"productTitle\">\n",
       " <a data-p=\"1-11\" href=\"//detail.tmall.com/item.htm?id=591701300388&amp;skuId=4611686610128688292&amp;user_id=126446588&amp;cat_id=2&amp;is_b=1&amp;rn=97896cca30a2cc66e0d3a8689ec154e7\" target=\"_blank\" title=\"Lenovo/联想小新14 2019锐龙版轻薄本笔记本电脑(R5-3500U/8G/疾速固态/14英寸)\">\n",
       " Lenovo/联想小新14 2019锐龙版轻薄本<span class=\"H\">笔记本</span>电脑(R5-3500U/8G/疾速固态/14英寸)\n",
       " </a>\n",
       " </p>, <p class=\"productTitle\">\n",
       " <a data-p=\"2-11\" href=\"//detail.tmall.com/item.htm?id=590490320840&amp;skuId=4051712200305&amp;user_id=2838892713&amp;cat_id=2&amp;is_b=1&amp;rn=97896cca30a2cc66e0d3a8689ec154e7\" target=\"_blank\" title=\"【官方正品】Huawei/华为 MateBook E 2019款 高通850 8+256GB/8+512GB 12英寸全连接轻薄二合一笔记本\">\n",
       " 【官方正品】Huawei/华为 MateBook E 2019款 高通850 8+256GB/8+512GB 12英寸全连接轻薄二合一<span class=\"H\">笔记本</span>\n",
       " </a>\n",
       " </p>, <p class=\"productTitle\">\n",
       " <a data-p=\"3-11\" href=\"//detail.tmall.com/item.htm?id=577569009144&amp;skuId=4127581724505&amp;user_id=1114511827&amp;cat_id=2&amp;is_b=1&amp;rn=97896cca30a2cc66e0d3a8689ec154e7\" target=\"_blank\" title=\"【特惠400低至3599】荣耀MagicBook 2019锐龙版笔记本电脑R5 3500U 256/512G 14英寸FHD IPS 正版Office轻薄\">\n",
       " 【特惠400低至3599】荣耀MagicBook 2019锐龙版<span class=\"H\">笔记本</span>电脑R5 3500U 256/512G 14英寸FHD IPS 正版Office轻薄\n",
       " </a>\n",
       " </p>]"
      ]
     },
     "execution_count": 31,
     "metadata": {},
     "output_type": "execute_result"
    }
   ],
   "source": [
    "new_soup.find_all(\"p\", class_=\"productTitle\")[:3]"
   ]
  }
 ],
 "metadata": {
  "kernelspec": {
   "display_name": "Python 3",
   "language": "python",
   "name": "python3"
  },
  "language_info": {
   "codemirror_mode": {
    "name": "ipython",
    "version": 3
   },
   "file_extension": ".py",
   "mimetype": "text/x-python",
   "name": "python",
   "nbconvert_exporter": "python",
   "pygments_lexer": "ipython3",
   "version": "3.7.3"
  }
 },
 "nbformat": 4,
 "nbformat_minor": 2
}
