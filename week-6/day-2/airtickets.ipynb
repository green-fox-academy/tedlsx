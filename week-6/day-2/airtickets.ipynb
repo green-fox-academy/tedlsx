{
 "cells": [
  {
   "cell_type": "code",
   "execution_count": 16,
   "metadata": {},
   "outputs": [
    {
     "data": {
      "text/plain": [
       "Index(['aTime', 'aTimeUTC', 'airlines', 'baglimit.hand_height',\n",
       "       'baglimit.hand_length', 'baglimit.hand_weight', 'baglimit.hand_width',\n",
       "       'baglimit.hold_dimensions_sum', 'baglimit.hold_height',\n",
       "       'baglimit.hold_length', 'baglimit.hold_weight', 'baglimit.hold_width',\n",
       "       'bags_price.1', 'bags_price.2', 'booking_token', 'cityFrom', 'cityTo',\n",
       "       'conversion.EUR', 'conversion.GBP', 'countryFrom.code',\n",
       "       'countryFrom.name', 'countryTo.code', 'countryTo.name', 'dTime',\n",
       "       'dTimeUTC', 'distance', 'duration.departure', 'duration.return',\n",
       "       'duration.total', 'facilitated_booking_available', 'flyFrom', 'flyTo',\n",
       "       'fly_duration', 'found_on', 'has_airport_change', 'hashtags', 'id',\n",
       "       'mapIdfrom', 'mapIdto', 'nightsInDest', 'p1', 'p2', 'p3', 'pnr_count',\n",
       "       'price', 'quality', 'route', 'routes', 'transfers',\n",
       "       'virtual_interlining'],\n",
       "      dtype='object')"
      ]
     },
     "execution_count": 16,
     "metadata": {},
     "output_type": "execute_result"
    }
   ],
   "source": [
    "import requests\n",
    "import json\n",
    "from bs4 import BeautifulSoup\n",
    "import pandas as pd\n",
    "from pandas.io.json import json_normalize"
   ]
  },
  {
   "cell_type": "markdown",
   "metadata": {},
   "source": [
    "Air tickets"
   ]
  },
  {
   "cell_type": "code",
   "execution_count": 21,
   "metadata": {},
   "outputs": [
    {
     "data": {
      "text/plain": [
       "Index(['aTime', 'aTimeUTC', 'airlines', 'baglimit.hand_height',\n",
       "       'baglimit.hand_length', 'baglimit.hand_weight', 'baglimit.hand_width',\n",
       "       'baglimit.hold_dimensions_sum', 'baglimit.hold_height',\n",
       "       'baglimit.hold_length', 'baglimit.hold_weight', 'baglimit.hold_width',\n",
       "       'bags_price.1', 'bags_price.2', 'booking_token', 'cityFrom', 'cityTo',\n",
       "       'conversion.EUR', 'conversion.GBP', 'countryFrom.code',\n",
       "       'countryFrom.name', 'countryTo.code', 'countryTo.name', 'dTime',\n",
       "       'dTimeUTC', 'distance', 'duration.departure', 'duration.return',\n",
       "       'duration.total', 'facilitated_booking_available', 'flyFrom', 'flyTo',\n",
       "       'fly_duration', 'found_on', 'has_airport_change', 'hashtags', 'id',\n",
       "       'mapIdfrom', 'mapIdto', 'nightsInDest', 'p1', 'p2', 'p3', 'pnr_count',\n",
       "       'price', 'quality', 'route', 'routes', 'transfers',\n",
       "       'virtual_interlining'],\n",
       "      dtype='object')"
      ]
     },
     "execution_count": 21,
     "metadata": {},
     "output_type": "execute_result"
    }
   ],
   "source": [
    "baseurl = 'https://api.skypicker.com/flights?flyFrom=airport:BRS&to=airport:PRG&curr=GBP&dateFrom=19/12/2019&dateTo=23/12/2019&max_stopovers=0&sort=price&asc=1'\n",
    "GettingData = requests.get(baseurl)\n",
    "data = json.loads(GettingData.content)\n",
    "df = json_normalize(data[\"data\"])\n",
    "df.columns"
   ]
  },
  {
   "cell_type": "code",
   "execution_count": 20,
   "metadata": {},
   "outputs": [
    {
     "data": {
      "text/html": [
       "<div>\n",
       "<style scoped>\n",
       "    .dataframe tbody tr th:only-of-type {\n",
       "        vertical-align: middle;\n",
       "    }\n",
       "\n",
       "    .dataframe tbody tr th {\n",
       "        vertical-align: top;\n",
       "    }\n",
       "\n",
       "    .dataframe thead th {\n",
       "        text-align: right;\n",
       "    }\n",
       "</style>\n",
       "<table border=\"1\" class=\"dataframe\">\n",
       "  <thead>\n",
       "    <tr style=\"text-align: right;\">\n",
       "      <th></th>\n",
       "      <th>price</th>\n",
       "      <th>conversion.EUR</th>\n",
       "    </tr>\n",
       "  </thead>\n",
       "  <tbody>\n",
       "    <tr>\n",
       "      <th>0</th>\n",
       "      <td>86</td>\n",
       "      <td>96</td>\n",
       "    </tr>\n",
       "    <tr>\n",
       "      <th>1</th>\n",
       "      <td>90</td>\n",
       "      <td>101</td>\n",
       "    </tr>\n",
       "    <tr>\n",
       "      <th>2</th>\n",
       "      <td>98</td>\n",
       "      <td>110</td>\n",
       "    </tr>\n",
       "    <tr>\n",
       "      <th>3</th>\n",
       "      <td>102</td>\n",
       "      <td>115</td>\n",
       "    </tr>\n",
       "    <tr>\n",
       "      <th>4</th>\n",
       "      <td>110</td>\n",
       "      <td>123</td>\n",
       "    </tr>\n",
       "  </tbody>\n",
       "</table>\n",
       "</div>"
      ],
      "text/plain": [
       "   price  conversion.EUR\n",
       "0     86              96\n",
       "1     90             101\n",
       "2     98             110\n",
       "3    102             115\n",
       "4    110             123"
      ]
     },
     "execution_count": 20,
     "metadata": {},
     "output_type": "execute_result"
    }
   ],
   "source": [
    "df[[\"price\",\"conversion.EUR\"]]"
   ]
  },
  {
   "cell_type": "code",
   "execution_count": 15,
   "metadata": {},
   "outputs": [
    {
     "data": {
      "text/html": [
       "<div>\n",
       "<style scoped>\n",
       "    .dataframe tbody tr th:only-of-type {\n",
       "        vertical-align: middle;\n",
       "    }\n",
       "\n",
       "    .dataframe tbody tr th {\n",
       "        vertical-align: top;\n",
       "    }\n",
       "\n",
       "    .dataframe thead th {\n",
       "        text-align: right;\n",
       "    }\n",
       "</style>\n",
       "<table border=\"1\" class=\"dataframe\">\n",
       "  <thead>\n",
       "    <tr style=\"text-align: right;\">\n",
       "      <th></th>\n",
       "      <th>airlinesList</th>\n",
       "      <th>airportsList</th>\n",
       "      <th>all_airlines</th>\n",
       "      <th>all_prices.100-106</th>\n",
       "      <th>all_prices.106-112</th>\n",
       "      <th>all_prices.112-119</th>\n",
       "      <th>all_prices.119-126</th>\n",
       "      <th>all_prices.94-100</th>\n",
       "      <th>all_stopover_airports</th>\n",
       "      <th>best_results</th>\n",
       "      <th>...</th>\n",
       "      <th>ref_tasks</th>\n",
       "      <th>refresh</th>\n",
       "      <th>search_id</th>\n",
       "      <th>search_params.flyFrom_type</th>\n",
       "      <th>search_params.seats.adults</th>\n",
       "      <th>search_params.seats.children</th>\n",
       "      <th>search_params.seats.infants</th>\n",
       "      <th>search_params.seats.passengers</th>\n",
       "      <th>search_params.to_type</th>\n",
       "      <th>time</th>\n",
       "    </tr>\n",
       "  </thead>\n",
       "  <tbody>\n",
       "    <tr>\n",
       "      <th>0</th>\n",
       "      <td>[{'filterName': 'SU'}, {'filterName': 'TB'}, {...</td>\n",
       "      <td>[]</td>\n",
       "      <td>[SU, TB, LY, AZ, 2C, WF, NATEXPRESS, SN, BA, L...</td>\n",
       "      <td>1</td>\n",
       "      <td>1</td>\n",
       "      <td>1</td>\n",
       "      <td>1</td>\n",
       "      <td>1</td>\n",
       "      <td>[]</td>\n",
       "      <td>[{'sort': 'price', 'price': 96, 'duration': 72...</td>\n",
       "      <td>...</td>\n",
       "      <td>[]</td>\n",
       "      <td>[]</td>\n",
       "      <td>3c032552-fb6d-4462-9254-ff55e84a744d</td>\n",
       "      <td>airport</td>\n",
       "      <td>1</td>\n",
       "      <td>0</td>\n",
       "      <td>0</td>\n",
       "      <td>1</td>\n",
       "      <td>airport</td>\n",
       "      <td>1</td>\n",
       "    </tr>\n",
       "  </tbody>\n",
       "</table>\n",
       "<p>1 rows × 28 columns</p>\n",
       "</div>"
      ],
      "text/plain": [
       "                                        airlinesList airportsList  \\\n",
       "0  [{'filterName': 'SU'}, {'filterName': 'TB'}, {...           []   \n",
       "\n",
       "                                        all_airlines  all_prices.100-106  \\\n",
       "0  [SU, TB, LY, AZ, 2C, WF, NATEXPRESS, SN, BA, L...                   1   \n",
       "\n",
       "   all_prices.106-112  all_prices.112-119  all_prices.119-126  \\\n",
       "0                   1                   1                   1   \n",
       "\n",
       "   all_prices.94-100 all_stopover_airports  \\\n",
       "0                  1                    []   \n",
       "\n",
       "                                        best_results  ... ref_tasks refresh  \\\n",
       "0  [{'sort': 'price', 'price': 96, 'duration': 72...  ...        []      []   \n",
       "\n",
       "                              search_id search_params.flyFrom_type  \\\n",
       "0  3c032552-fb6d-4462-9254-ff55e84a744d                    airport   \n",
       "\n",
       "   search_params.seats.adults  search_params.seats.children  \\\n",
       "0                           1                             0   \n",
       "\n",
       "  search_params.seats.infants search_params.seats.passengers  \\\n",
       "0                           0                              1   \n",
       "\n",
       "  search_params.to_type time  \n",
       "0               airport    1  \n",
       "\n",
       "[1 rows x 28 columns]"
      ]
     },
     "execution_count": 15,
     "metadata": {},
     "output_type": "execute_result"
    }
   ],
   "source": []
  },
  {
   "cell_type": "code",
   "execution_count": null,
   "metadata": {},
   "outputs": [],
   "source": []
  },
  {
   "cell_type": "code",
   "execution_count": null,
   "metadata": {},
   "outputs": [],
   "source": []
  },
  {
   "cell_type": "code",
   "execution_count": null,
   "metadata": {},
   "outputs": [],
   "source": []
  }
 ],
 "metadata": {
  "kernelspec": {
   "display_name": "Python 3",
   "language": "python",
   "name": "python3"
  },
  "language_info": {
   "codemirror_mode": {
    "name": "ipython",
    "version": 3
   },
   "file_extension": ".py",
   "mimetype": "text/x-python",
   "name": "python",
   "nbconvert_exporter": "python",
   "pygments_lexer": "ipython3",
   "version": "3.7.3"
  }
 },
 "nbformat": 4,
 "nbformat_minor": 2
}
