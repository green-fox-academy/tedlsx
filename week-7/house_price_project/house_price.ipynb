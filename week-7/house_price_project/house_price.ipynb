{
 "cells": [
  {
   "cell_type": "code",
   "execution_count": 727,
   "metadata": {},
   "outputs": [],
   "source": [
    "import requests\n",
    "from bs4 import BeautifulSoup\n",
    "import numpy as np\n",
    "import pandas as pd\n",
    "from scipy import stats\n",
    "import statsmodels.api as sm\n",
    "from sklearn.model_selection import train_test_split\n",
    "from sklearn.linear_model import LinearRegression\n",
    "from sklearn.linear_model import Ridge\n",
    "from sklearn.linear_model import RidgeCV\n",
    "# from sklearn.metrics import confusion_matrix\n",
    "from sklearn.metrics import r2_score\n",
    "import seaborn as sns\n",
    "import matplotlib.pyplot as plt\n",
    "\n",
    "from sklearn.preprocessing import StandardScaler\n",
    "# import visuals as vs\n",
    "\n",
    "# import xml.etree.cElementTree as et\n",
    "# import xmltodict"
   ]
  },
  {
   "cell_type": "markdown",
   "metadata": {},
   "source": [
    "Function to read soup"
   ]
  },
  {
   "cell_type": "code",
   "execution_count": 416,
   "metadata": {},
   "outputs": [],
   "source": [
    "def soup_to_df(s):\n",
    "    dfcols = ['outcode', 'last_published_date','latitude', 'longitude', 'post_town', 'num_bathrooms', 'num_bedrooms', 'num_floors', \n",
    "              'num_recepts', 'property_type', 'street_name', \"price\"]\n",
    "    df_xml = pd.DataFrame(columns=dfcols)\n",
    "\n",
    "    for node in s.find_all(\"listing\"):\n",
    "        outcode =  node.find('outcode').get_text()\n",
    "        last_published_date = node.find('last_published_date').get_text()\n",
    "        latitude = node.find('latitude').get_text()\n",
    "        longitude = node.find('longitude').get_text()\n",
    "        post_town = node.find('post_town').get_text()\n",
    "        num_bathrooms = node.find('num_bathrooms').get_text()\n",
    "        num_bedrooms = node.find('num_bedrooms').get_text()\n",
    "        num_floors = node.find('num_floors').get_text()\n",
    "        num_recepts = node.find('num_recepts').get_text()\n",
    "        property_type = node.find('property_type').get_text()\n",
    "        street_name = node.find('street_name').get_text()\n",
    "        price = node.find('price').get_text()\n",
    "\n",
    "        df_xml = df_xml.append(pd.Series([outcode, float(latitude), float(longitude), post_town, last_published_date, int(num_bathrooms),\n",
    "                                          int(num_bedrooms), int(num_floors), int(num_recepts), property_type, street_name, int(price)], index=dfcols),ignore_index=True)\n",
    "    \n",
    "    return df_xml\n",
    "# df = pd.read_html(str(table))[0]\n",
    "# print(df[0].to_json(orient='records'))"
   ]
  },
  {
   "cell_type": "markdown",
   "metadata": {},
   "source": [
    "Build the DF contain all data"
   ]
  },
  {
   "cell_type": "code",
   "execution_count": 418,
   "metadata": {},
   "outputs": [],
   "source": [
    "dfcols = ['outcode', 'latitude', 'longitude', 'post_town', 'last_published_date', 'num_bathrooms', 'num_bedrooms', 'num_floors', \n",
    "              'num_recepts', 'property_type', 'street_name', \"price\"]\n",
    "df_all = pd.DataFrame(columns=dfcols)\n",
    "for i in range(1, 58):\n",
    "    baseurl = f\"https://api.zoopla.co.uk/api/v1/property_listings?api_key=9zpbeza9n858g3u2g633u3rb&county=Somerset&country=England&listing_status=sale&include_sold=1&page_number={i}&page_size=100\"\n",
    "    page = requests.get(baseurl)\n",
    "    soup = BeautifulSoup(page.content)\n",
    "    df = soup_to_df(soup)\n",
    "    df_all = pd.concat([df_all, df], axis = 0) \n",
    "# df_all.to_csv(\"estates.csv\")"
   ]
  },
  {
   "cell_type": "code",
   "execution_count": 763,
   "metadata": {},
   "outputs": [],
   "source": [
    "df_all = pd.read_csv(\"estates.csv\")"
   ]
  },
  {
   "cell_type": "code",
   "execution_count": 764,
   "metadata": {},
   "outputs": [
    {
     "name": "stdout",
     "output_type": "stream",
     "text": [
      "<class 'pandas.core.frame.DataFrame'>\n",
      "RangeIndex: 5868 entries, 0 to 5867\n",
      "Data columns (total 20 columns):\n",
      "Unnamed: 0              5868 non-null int64\n",
      "address                 5868 non-null object\n",
      "county                  5842 non-null object\n",
      "description             5867 non-null object\n",
      "details_url             5868 non-null object\n",
      "first_published_date    5868 non-null object\n",
      "last_published_date     5868 non-null object\n",
      "latitude                5868 non-null float64\n",
      "longitude               5868 non-null float64\n",
      "new_home                501 non-null object\n",
      "num_bathrooms           5868 non-null int64\n",
      "num_bedrooms            5868 non-null int64\n",
      "num_floors              5868 non-null int64\n",
      "num_recepts             5868 non-null int64\n",
      "outcode                 5868 non-null object\n",
      "post_town               5842 non-null object\n",
      "price                   5868 non-null int64\n",
      "property_type           5426 non-null object\n",
      "shared_occupancy        0 non-null float64\n",
      "street_name             5633 non-null object\n",
      "dtypes: float64(3), int64(6), object(11)\n",
      "memory usage: 917.0+ KB\n"
     ]
    },
    {
     "data": {
      "text/html": [
       "<div>\n",
       "<style scoped>\n",
       "    .dataframe tbody tr th:only-of-type {\n",
       "        vertical-align: middle;\n",
       "    }\n",
       "\n",
       "    .dataframe tbody tr th {\n",
       "        vertical-align: top;\n",
       "    }\n",
       "\n",
       "    .dataframe thead th {\n",
       "        text-align: right;\n",
       "    }\n",
       "</style>\n",
       "<table border=\"1\" class=\"dataframe\">\n",
       "  <thead>\n",
       "    <tr style=\"text-align: right;\">\n",
       "      <th></th>\n",
       "      <th>Unnamed: 0</th>\n",
       "      <th>address</th>\n",
       "      <th>county</th>\n",
       "      <th>description</th>\n",
       "      <th>details_url</th>\n",
       "      <th>first_published_date</th>\n",
       "      <th>last_published_date</th>\n",
       "      <th>latitude</th>\n",
       "      <th>longitude</th>\n",
       "      <th>new_home</th>\n",
       "      <th>num_bathrooms</th>\n",
       "      <th>num_bedrooms</th>\n",
       "      <th>num_floors</th>\n",
       "      <th>num_recepts</th>\n",
       "      <th>outcode</th>\n",
       "      <th>post_town</th>\n",
       "      <th>price</th>\n",
       "      <th>property_type</th>\n",
       "      <th>shared_occupancy</th>\n",
       "      <th>street_name</th>\n",
       "    </tr>\n",
       "  </thead>\n",
       "  <tbody>\n",
       "    <tr>\n",
       "      <th>0</th>\n",
       "      <td>0</td>\n",
       "      <td>Hill Lane, Weston-In-Gordano, Bristol BS20</td>\n",
       "      <td>Bristol</td>\n",
       "      <td>Weston Lodge is a most appealing Grade II list...</td>\n",
       "      <td>https://www.zoopla.co.uk/for-sale/details/4879...</td>\n",
       "      <td>2019-04-18 00:25:51</td>\n",
       "      <td>2019-04-18 00:25:51</td>\n",
       "      <td>51.465576</td>\n",
       "      <td>-2.799919</td>\n",
       "      <td>NaN</td>\n",
       "      <td>0</td>\n",
       "      <td>5</td>\n",
       "      <td>0</td>\n",
       "      <td>5</td>\n",
       "      <td>BS20</td>\n",
       "      <td>Bristol</td>\n",
       "      <td>3000000</td>\n",
       "      <td>Detached house</td>\n",
       "      <td>NaN</td>\n",
       "      <td>Hill Lane</td>\n",
       "    </tr>\n",
       "    <tr>\n",
       "      <th>1</th>\n",
       "      <td>1</td>\n",
       "      <td>Winsford, Minehead TA24</td>\n",
       "      <td>Somerset</td>\n",
       "      <td>IntroductionGreat Nurcott comes to the market ...</td>\n",
       "      <td>https://www.zoopla.co.uk/for-sale/details/5078...</td>\n",
       "      <td>2019-03-13 10:51:53</td>\n",
       "      <td>2019-03-14 04:08:08</td>\n",
       "      <td>51.115680</td>\n",
       "      <td>-3.566586</td>\n",
       "      <td>NaN</td>\n",
       "      <td>0</td>\n",
       "      <td>0</td>\n",
       "      <td>0</td>\n",
       "      <td>0</td>\n",
       "      <td>TA24</td>\n",
       "      <td>Minehead</td>\n",
       "      <td>2975000</td>\n",
       "      <td>Farm</td>\n",
       "      <td>NaN</td>\n",
       "      <td>Winsford</td>\n",
       "    </tr>\n",
       "    <tr>\n",
       "      <th>2</th>\n",
       "      <td>2</td>\n",
       "      <td>Church Lane, North Perrott, Crewkerne TA18</td>\n",
       "      <td>Somerset</td>\n",
       "      <td>Large Country house on the Dorset/Somerset bor...</td>\n",
       "      <td>https://www.zoopla.co.uk/for-sale/details/4390...</td>\n",
       "      <td>2017-05-22 15:54:50</td>\n",
       "      <td>2018-04-17 18:44:30</td>\n",
       "      <td>50.882690</td>\n",
       "      <td>-2.749436</td>\n",
       "      <td>NaN</td>\n",
       "      <td>3</td>\n",
       "      <td>6</td>\n",
       "      <td>3</td>\n",
       "      <td>4</td>\n",
       "      <td>TA18</td>\n",
       "      <td>Crewkerne</td>\n",
       "      <td>2250000</td>\n",
       "      <td>Detached house</td>\n",
       "      <td>NaN</td>\n",
       "      <td>Crewkerne</td>\n",
       "    </tr>\n",
       "    <tr>\n",
       "      <th>3</th>\n",
       "      <td>3</td>\n",
       "      <td>East Coker, Yeovil, Somerset BA22</td>\n",
       "      <td>Somerset</td>\n",
       "      <td>A 50 acre residential farm comprising two dwel...</td>\n",
       "      <td>https://www.zoopla.co.uk/for-sale/details/2666...</td>\n",
       "      <td>2015-01-10 00:22:45</td>\n",
       "      <td>2019-03-26 16:39:08</td>\n",
       "      <td>50.916737</td>\n",
       "      <td>-2.638569</td>\n",
       "      <td>NaN</td>\n",
       "      <td>5</td>\n",
       "      <td>8</td>\n",
       "      <td>0</td>\n",
       "      <td>4</td>\n",
       "      <td>BA22</td>\n",
       "      <td>Yeovil</td>\n",
       "      <td>1875000</td>\n",
       "      <td>Equestrian property</td>\n",
       "      <td>NaN</td>\n",
       "      <td>Yeovil Somerset</td>\n",
       "    </tr>\n",
       "    <tr>\n",
       "      <th>4</th>\n",
       "      <td>4</td>\n",
       "      <td>Nynehead, Wellington, Somerset TA21</td>\n",
       "      <td>Somerset</td>\n",
       "      <td>The Lynch is a modern five bedroom house which...</td>\n",
       "      <td>https://www.zoopla.co.uk/for-sale/details/4890...</td>\n",
       "      <td>2019-04-26 00:25:54</td>\n",
       "      <td>2019-06-11 13:14:28</td>\n",
       "      <td>51.000244</td>\n",
       "      <td>-3.237185</td>\n",
       "      <td>NaN</td>\n",
       "      <td>5</td>\n",
       "      <td>5</td>\n",
       "      <td>0</td>\n",
       "      <td>8</td>\n",
       "      <td>TA21</td>\n",
       "      <td>Wellington</td>\n",
       "      <td>1850000</td>\n",
       "      <td>Detached house</td>\n",
       "      <td>NaN</td>\n",
       "      <td>Nynehead</td>\n",
       "    </tr>\n",
       "  </tbody>\n",
       "</table>\n",
       "</div>"
      ],
      "text/plain": [
       "   Unnamed: 0                                     address    county  \\\n",
       "0           0  Hill Lane, Weston-In-Gordano, Bristol BS20   Bristol   \n",
       "1           1                     Winsford, Minehead TA24  Somerset   \n",
       "2           2  Church Lane, North Perrott, Crewkerne TA18  Somerset   \n",
       "3           3           East Coker, Yeovil, Somerset BA22  Somerset   \n",
       "4           4         Nynehead, Wellington, Somerset TA21  Somerset   \n",
       "\n",
       "                                         description  \\\n",
       "0  Weston Lodge is a most appealing Grade II list...   \n",
       "1  IntroductionGreat Nurcott comes to the market ...   \n",
       "2  Large Country house on the Dorset/Somerset bor...   \n",
       "3  A 50 acre residential farm comprising two dwel...   \n",
       "4  The Lynch is a modern five bedroom house which...   \n",
       "\n",
       "                                         details_url first_published_date  \\\n",
       "0  https://www.zoopla.co.uk/for-sale/details/4879...  2019-04-18 00:25:51   \n",
       "1  https://www.zoopla.co.uk/for-sale/details/5078...  2019-03-13 10:51:53   \n",
       "2  https://www.zoopla.co.uk/for-sale/details/4390...  2017-05-22 15:54:50   \n",
       "3  https://www.zoopla.co.uk/for-sale/details/2666...  2015-01-10 00:22:45   \n",
       "4  https://www.zoopla.co.uk/for-sale/details/4890...  2019-04-26 00:25:54   \n",
       "\n",
       "   last_published_date   latitude  longitude new_home  num_bathrooms  \\\n",
       "0  2019-04-18 00:25:51  51.465576  -2.799919      NaN              0   \n",
       "1  2019-03-14 04:08:08  51.115680  -3.566586      NaN              0   \n",
       "2  2018-04-17 18:44:30  50.882690  -2.749436      NaN              3   \n",
       "3  2019-03-26 16:39:08  50.916737  -2.638569      NaN              5   \n",
       "4  2019-06-11 13:14:28  51.000244  -3.237185      NaN              5   \n",
       "\n",
       "   num_bedrooms  num_floors  num_recepts outcode   post_town    price  \\\n",
       "0             5           0            5    BS20     Bristol  3000000   \n",
       "1             0           0            0    TA24    Minehead  2975000   \n",
       "2             6           3            4    TA18   Crewkerne  2250000   \n",
       "3             8           0            4    BA22      Yeovil  1875000   \n",
       "4             5           0            8    TA21  Wellington  1850000   \n",
       "\n",
       "         property_type  shared_occupancy      street_name  \n",
       "0       Detached house               NaN        Hill Lane  \n",
       "1                 Farm               NaN         Winsford  \n",
       "2       Detached house               NaN        Crewkerne  \n",
       "3  Equestrian property               NaN  Yeovil Somerset  \n",
       "4       Detached house               NaN         Nynehead  "
      ]
     },
     "execution_count": 764,
     "metadata": {},
     "output_type": "execute_result"
    }
   ],
   "source": [
    "df_all.info()\n",
    "df_all.head()"
   ]
  },
  {
   "cell_type": "markdown",
   "metadata": {},
   "source": [
    "EDA"
   ]
  },
  {
   "cell_type": "code",
   "execution_count": 765,
   "metadata": {},
   "outputs": [
    {
     "name": "stdout",
     "output_type": "stream",
     "text": [
      "8 county ['Bristol' 'Somerset' 'North Somerset' 'Bath & N E Somerset' 'Dorset' nan\n",
      " 'Wiltshire' 'Devon']\n",
      "4636 last_published_date ['2019-04-18 00:25:51' '2019-03-14 04:08:08' '2018-04-17 18:44:30' ...\n",
      " '2019-06-14 12:21:40' '2019-03-27 19:33:04' '2019-04-04 17:28:47']\n",
      "3815 latitude [51.465576 51.11568  50.88269  ... 51.353558 51.384605 51.130367]\n",
      "3878 longitude [-2.799919 -3.566586 -2.749436 ... -2.968799 -2.824358 -2.732446]\n",
      "2 new_home [nan True]\n",
      "11 num_bathrooms [ 0  3  5 10  2  4  1  7  6  8  9]\n",
      "14 num_bedrooms [ 5  0  6  8 20 22  4  7  3 10  9  2 16  1]\n",
      "5 num_floors [0 3 2 1 4]\n",
      "11 num_recepts [ 5  0  4  8 10  3  6  7  2  1 11]\n",
      "58 outcode ['BS20' 'TA24' 'TA18' 'BA22' 'TA21' 'BA6' 'BA8' 'BS40' 'TA4' 'TA8' 'BA11'\n",
      " 'BS39' 'TA5' 'BS21' 'BS28' 'BA3' 'TA1' 'BA5' 'BA2' 'TA3' 'BA10' 'BA9'\n",
      " 'BS24' 'TA2' 'TA12' 'TA7' 'TA9' 'BS25' 'TA20' 'BS27' 'SP8' 'TA19' 'TA11'\n",
      " 'TA22' 'TA6' 'TA10' 'BA12' 'BS22' 'BA16' 'BS26' 'DT9' 'EX16' 'BA4' 'TA13'\n",
      " 'BA20' 'BS29' 'BS23' 'TA14' 'BA7' 'BS49' 'BA21' 'EX13' 'BS48' 'EX14'\n",
      " 'TA15' 'TA23' 'TA16' 'TA17']\n",
      "46 post_town ['Bristol' 'Minehead' 'Crewkerne' 'Yeovil' 'Wellington' 'Glastonbury'\n",
      " 'Templecombe' 'Taunton' 'Burnham-on-Sea' 'Frome' 'Bridgwater' 'Clevedon'\n",
      " 'Wedmore' 'Radstock' 'Wells' 'Bath' 'Bruton' 'Wincanton'\n",
      " 'Weston-super-Mare' 'Martock' 'Highbridge' 'Winscombe' 'Chard' 'Cheddar'\n",
      " 'Gillingham' 'Ilminster' nan 'Somerton' 'Dulverton' 'Langport'\n",
      " 'Warminster' 'Street' 'Axbridge' 'Sherborne' 'Tiverton' 'Shepton Mallet'\n",
      " 'South Petherton' 'Banwell' 'Stoke-Sub-Hamdon' 'Castle Cary' 'Axminster'\n",
      " 'Honiton' 'Montacute' 'Watchet' 'Merriott' 'Hinton St. George']\n",
      "718 price [3000000 2975000 2250000 1875000 1850000       0 1750000 1700000 1600000\n",
      " 1590000 1500000 1350000 1300000 1250000 1200000 1160000 1150000 1100000\n",
      " 1095000 1050000 1000000  999000  995000  975000  950000  925000  900000\n",
      "  899950  895000  885000  875000  865000  850000  849950  845000  825000\n",
      "  800000  795000  790000  785000  780000  775000  765000  760000  759500\n",
      "  755000  750000  735000  725000  715000  710000  700000  699950  699000\n",
      "  695000  685000  680000  679950  675000  670000  660000  659950  659500\n",
      "  659000  650000  649995  649950  645000  640000  635000  629950  625000\n",
      "  620000  615000  610000  600000  599950  599500  599000  595000  585000\n",
      "  580000  579950  577500  575000  565000  560000  559950  555000  550000\n",
      "  549950  549500  545000  540000  537000  535000  530000  525000  524000\n",
      "  520000  519995  519000  515000  514995  514000  510000  505000  500000\n",
      "  499995  499950  495000  492500  490000  489995  485000  480000  479950\n",
      "  479000  475000  470000  469950  467950  465000  464950  460000  459950\n",
      "  459000  455000  450000  449995  449950  449500  445995  445000  444995\n",
      "  440000  439950  439000  435000  432500  431995  430000  429950  429000\n",
      "  425000  424950  422000  420000  419995  419500  415000  410000  405000\n",
      "  400000  399999  399995  399950  399500  399000  397500  395000  394950\n",
      "  391995  390000  389995  389950  389500  389000  387500  387000  385000\n",
      "  380000  379995  379950  379500  379000  377950  377500  377000  375000\n",
      "  374999  374995  374500  370000  369995  369950  369500  367500  365995\n",
      "  365000  364995  364500  362950  362500  362000  361995  360000  359995\n",
      "  359950  359000  358950  357500  355995  355000  354995  354950  352950\n",
      "  351950  350000  349950  349000  348950  347000  345000  344950  342995\n",
      "  340000  339995  339950  339500  337995  337500  337000  335500  335000\n",
      "  334995  334500  330000  329995  329990  329950  329500  329000  328500\n",
      "  326995  325995  325000  324995  324950  324500  322500  320000  319995\n",
      "  319950  319500  318000  317500  316875  315000  314950  312995  312500\n",
      "  310000  309995  309950  307500  305000  304995  302995  300000  299999\n",
      "  299995  299950  299500  298000  297995  297500  295000  294995  294950\n",
      "  292000  291995  290500  290000  289995  289950  289500  289000  288950\n",
      "  288000  287500  287000  286995  285000  284995  284950  284050  284000\n",
      "  283950  283000  282200  281995  280950  280000  279995  279950  279500\n",
      "  279000  277995  276995  275000  274995  274950  274395  274000  273995\n",
      "  272995  272500  270950  270000  269995  269950  269500  269000  268500\n",
      "  268000  266995  265995  265000  264950  264500  260000  259995  259950\n",
      "  259500  259000  258500  257995  257500  257000  256950  255995  255000\n",
      "  254995  254950  252995  252500  251995  250000  249995  249950  249500\n",
      "  248000  247950  247000  245995  245000  244995  244950  244000  243950\n",
      "  243500  242500  242000  241995  240995  240000  239995  239950  239500\n",
      "  239000  238995  238000  237995  237500  236500  235000  234995  234950\n",
      "  234000  233000  232995  232950  232500  231995  231950  230995  230000\n",
      "  229995  229950  229500  229000  228000  227995  227950  227500  227000\n",
      "  225995  225000  224995  224950  224000  223995  223000  222500  222000\n",
      "  221999  220995  220000  219995  219950  219500  219000  218995  218950\n",
      "  218500  218000  217995  217950  217500  217000  215000  214995  214950\n",
      "  213000  212995  212500  212000  210000  209995  209950  209000  208995\n",
      "  208000  207950  207500  207000  206995  206000  205000  204995  204950\n",
      "  201995  200000  199995  199950  199925  199000  198500  198000  197995\n",
      "  197500  197000  196995  195500  195000  194950  194500  192500  192000\n",
      "  191000  190000  189995  189950  189500  189000  188995  188000  187950\n",
      "  187500  187000  186000  185995  185000  184995  184950  184000  183000\n",
      "  182500  182000  180000  179995  179950  179900  179500  179000  178000\n",
      "  177950  177500  177000  176950  175995  175950  175000  174995  174950\n",
      "  174000  172995  172500  172000  171500  170000  169995  169950  169500\n",
      "  168995  168000  167995  167950  167500  167000  166500  166250  165950\n",
      "  165000  164950  164000  162950  162500  161950  160995  160000  159950\n",
      "  159000  158950  158000  157500  157000  156950  156500  156000  155000\n",
      "  154995  154950  152995  152950  152500  152000  150000  149995  149950\n",
      "  149500  148500  147500  147000  146950  145950  145250  145000  144950\n",
      "  144000  143950  143198  143000  142950  142750  142500  142000  140000\n",
      "  139995  139950  139500  138750  138500  137950  137500  137200  137000\n",
      "  136950  135000  134995  134950  134000  133998  133000  132000  131998\n",
      "  130000  129995  129950  129500  128950  128000  127500  127000  126500\n",
      "  126000  125500  125000  124995  124950  124500  124450  123999  123750\n",
      "  123000  122950  122500  122000  121950  120000  119995  119950  119500\n",
      "  119000  118965  117500  117000  116500  115000  114995  114950  114000\n",
      "  113950  113500  112950  112500  112000  110950  110000  109995  109950\n",
      "  109000  108500  108000  107900  107500  107000  106000  105500  105000\n",
      "  104995  104950  102950  102000  100000   99995   99950   99000   98500\n",
      "   98000   97500   97000   96000   95950   95000   94500   93500   92500\n",
      "   92000   91250   90000   89950   89500   89000   88000   87750   87500\n",
      "   87000   86000   85000   84995   84950   84000   83000   82950   82883\n",
      "   82500   82000   80500   80000   79950   79500   78000   77950   77500\n",
      "   76950   75000   74000   72500   72000   70000   69995   69950   68495\n",
      "   68000   67500   67000   66000   65000   64950   64000   63884   63500\n",
      "   62500   62000   61250   60000   59995   59950   58000   57750   56950\n",
      "   55000   54995   52500   52000   51250   50000   44995   42500   41300\n",
      "   40000   39999   38500   35000   30000   29950   27000   25999   25000\n",
      "   23995   20000   18000   15000   14995    8250    5000]\n",
      "30 property_type ['Detached house' 'Farm' 'Equestrian property' 'Land' nan 'Country house'\n",
      " 'Barn conversion' 'Semi-detached house' 'Detached bungalow' 'Farmhouse'\n",
      " 'Cottage' 'Town house' 'Terraced house' 'Villa' 'End terrace house'\n",
      " 'Bungalow' 'Link-detached house' 'Chalet' 'Flat' 'Mobile/park home'\n",
      " 'Semi-detached bungalow' 'Hotel/guest house' 'Maisonette' 'Mews house'\n",
      " 'Studio' 'Terraced bungalow' 'Lodge' 'Block of flats' 'Houseboat'\n",
      " 'Parking/garage']\n",
      "3063 street_name ['Hill Lane' 'Winsford' 'Crewkerne' ... 'Dulhorn Farm Holiday Park'\n",
      " 'Stewley Cross Park, Wood Road' 'Street Drove']\n"
     ]
    }
   ],
   "source": [
    "# for outcode\n",
    "# d = df_all[\"outcode\"].groupby(df_all[\"outcode\"])\n",
    "# ax = sns.barplot(x=d.size().index, y=d.size().values)\n",
    "\n",
    "# ax = sns.countplot(x = \"outcode\", data = df_all)\n",
    "# plt.figure(figsize=(15,8))\n",
    "# ax.set_xticklabels(ax.get_xticklabels(), fontsize=5, rotation=40, ha=\"right\")\n",
    "# ax.set_xticklabels(ax.get_xticklabels(), )\n",
    "# plt.tight_layout()\n",
    "# plt.show()\n",
    "df_all = df_all.drop(columns = [\"Unnamed: 0\", \"description\", \"shared_occupancy\", \"details_url\", \"first_published_date\", \"shared_occupancy\"])\n",
    "\n",
    "for i in range(1, len(df_all.columns)):\n",
    "    name = df_all.columns[i]\n",
    "    print(len(df_all[name].unique()), name, df_all[name].unique())\n",
    "# df_all[\"outcode\"].unique()"
   ]
  },
  {
   "cell_type": "code",
   "execution_count": 766,
   "metadata": {},
   "outputs": [],
   "source": [
    "df_all = df_all.drop(columns = [\"address\", \"street_name\"])\n",
    "# display(type(df_all[\"last_published_date\"][0]))\n",
    "# display(df_all[\"last_published_date\"][0])\n",
    "for i in range(len(df_all[\"last_published_date\"])):\n",
    "    df_all.loc[i, \"last_published_date\"] = df_all.loc[i, \"last_published_date\"][:4]"
   ]
  },
  {
   "cell_type": "code",
   "execution_count": 767,
   "metadata": {},
   "outputs": [
    {
     "data": {
      "text/plain": [
       "array(['2019', '2018'], dtype=object)"
      ]
     },
     "execution_count": 767,
     "metadata": {},
     "output_type": "execute_result"
    }
   ],
   "source": [
    "df_all[\"last_published_date\"].unique()"
   ]
  },
  {
   "cell_type": "markdown",
   "metadata": {},
   "source": [
    "Data preprocessing"
   ]
  },
  {
   "cell_type": "code",
   "execution_count": 768,
   "metadata": {},
   "outputs": [
    {
     "data": {
      "text/html": [
       "<div>\n",
       "<style scoped>\n",
       "    .dataframe tbody tr th:only-of-type {\n",
       "        vertical-align: middle;\n",
       "    }\n",
       "\n",
       "    .dataframe tbody tr th {\n",
       "        vertical-align: top;\n",
       "    }\n",
       "\n",
       "    .dataframe thead th {\n",
       "        text-align: right;\n",
       "    }\n",
       "</style>\n",
       "<table border=\"1\" class=\"dataframe\">\n",
       "  <thead>\n",
       "    <tr style=\"text-align: right;\">\n",
       "      <th></th>\n",
       "      <th>county</th>\n",
       "      <th>last_published_date</th>\n",
       "      <th>latitude</th>\n",
       "      <th>longitude</th>\n",
       "      <th>new_home</th>\n",
       "      <th>num_bathrooms</th>\n",
       "      <th>num_bedrooms</th>\n",
       "      <th>num_floors</th>\n",
       "      <th>num_recepts</th>\n",
       "      <th>outcode</th>\n",
       "      <th>post_town</th>\n",
       "      <th>price</th>\n",
       "      <th>property_type</th>\n",
       "    </tr>\n",
       "  </thead>\n",
       "  <tbody>\n",
       "    <tr>\n",
       "      <th>0</th>\n",
       "      <td>Bristol</td>\n",
       "      <td>2019</td>\n",
       "      <td>51.465576</td>\n",
       "      <td>-2.799919</td>\n",
       "      <td>NaN</td>\n",
       "      <td>0</td>\n",
       "      <td>5</td>\n",
       "      <td>0</td>\n",
       "      <td>5</td>\n",
       "      <td>BS20</td>\n",
       "      <td>Bristol</td>\n",
       "      <td>3000000</td>\n",
       "      <td>Detached house</td>\n",
       "    </tr>\n",
       "    <tr>\n",
       "      <th>1</th>\n",
       "      <td>Somerset</td>\n",
       "      <td>2019</td>\n",
       "      <td>51.115680</td>\n",
       "      <td>-3.566586</td>\n",
       "      <td>NaN</td>\n",
       "      <td>0</td>\n",
       "      <td>0</td>\n",
       "      <td>0</td>\n",
       "      <td>0</td>\n",
       "      <td>TA24</td>\n",
       "      <td>Minehead</td>\n",
       "      <td>2975000</td>\n",
       "      <td>Farm</td>\n",
       "    </tr>\n",
       "    <tr>\n",
       "      <th>2</th>\n",
       "      <td>Somerset</td>\n",
       "      <td>2018</td>\n",
       "      <td>50.882690</td>\n",
       "      <td>-2.749436</td>\n",
       "      <td>NaN</td>\n",
       "      <td>3</td>\n",
       "      <td>6</td>\n",
       "      <td>3</td>\n",
       "      <td>4</td>\n",
       "      <td>TA18</td>\n",
       "      <td>Crewkerne</td>\n",
       "      <td>2250000</td>\n",
       "      <td>Detached house</td>\n",
       "    </tr>\n",
       "    <tr>\n",
       "      <th>3</th>\n",
       "      <td>Somerset</td>\n",
       "      <td>2019</td>\n",
       "      <td>50.916737</td>\n",
       "      <td>-2.638569</td>\n",
       "      <td>NaN</td>\n",
       "      <td>5</td>\n",
       "      <td>8</td>\n",
       "      <td>0</td>\n",
       "      <td>4</td>\n",
       "      <td>BA22</td>\n",
       "      <td>Yeovil</td>\n",
       "      <td>1875000</td>\n",
       "      <td>Equestrian property</td>\n",
       "    </tr>\n",
       "    <tr>\n",
       "      <th>4</th>\n",
       "      <td>Somerset</td>\n",
       "      <td>2019</td>\n",
       "      <td>51.000244</td>\n",
       "      <td>-3.237185</td>\n",
       "      <td>NaN</td>\n",
       "      <td>5</td>\n",
       "      <td>5</td>\n",
       "      <td>0</td>\n",
       "      <td>8</td>\n",
       "      <td>TA21</td>\n",
       "      <td>Wellington</td>\n",
       "      <td>1850000</td>\n",
       "      <td>Detached house</td>\n",
       "    </tr>\n",
       "  </tbody>\n",
       "</table>\n",
       "</div>"
      ],
      "text/plain": [
       "     county last_published_date   latitude  longitude new_home  num_bathrooms  \\\n",
       "0   Bristol                2019  51.465576  -2.799919      NaN              0   \n",
       "1  Somerset                2019  51.115680  -3.566586      NaN              0   \n",
       "2  Somerset                2018  50.882690  -2.749436      NaN              3   \n",
       "3  Somerset                2019  50.916737  -2.638569      NaN              5   \n",
       "4  Somerset                2019  51.000244  -3.237185      NaN              5   \n",
       "\n",
       "   num_bedrooms  num_floors  num_recepts outcode   post_town    price  \\\n",
       "0             5           0            5    BS20     Bristol  3000000   \n",
       "1             0           0            0    TA24    Minehead  2975000   \n",
       "2             6           3            4    TA18   Crewkerne  2250000   \n",
       "3             8           0            4    BA22      Yeovil  1875000   \n",
       "4             5           0            8    TA21  Wellington  1850000   \n",
       "\n",
       "         property_type  \n",
       "0       Detached house  \n",
       "1                 Farm  \n",
       "2       Detached house  \n",
       "3  Equestrian property  \n",
       "4       Detached house  "
      ]
     },
     "execution_count": 768,
     "metadata": {},
     "output_type": "execute_result"
    }
   ],
   "source": [
    "df_all.head()"
   ]
  },
  {
   "cell_type": "code",
   "execution_count": 769,
   "metadata": {},
   "outputs": [
    {
     "name": "stdout",
     "output_type": "stream",
     "text": [
      "<class 'pandas.core.frame.DataFrame'>\n",
      "RangeIndex: 5868 entries, 0 to 5867\n",
      "Data columns (total 13 columns):\n",
      "county                 5842 non-null object\n",
      "last_published_date    5868 non-null object\n",
      "latitude               5868 non-null float64\n",
      "longitude              5868 non-null float64\n",
      "new_home               501 non-null object\n",
      "num_bathrooms          5868 non-null int32\n",
      "num_bedrooms           5868 non-null int32\n",
      "num_floors             5868 non-null int32\n",
      "num_recepts            5868 non-null int32\n",
      "outcode                5868 non-null object\n",
      "post_town              5842 non-null object\n",
      "price                  5868 non-null int32\n",
      "property_type          5426 non-null object\n",
      "dtypes: float64(2), int32(5), object(6)\n",
      "memory usage: 481.4+ KB\n"
     ]
    }
   ],
   "source": [
    "df_all[[\"num_bathrooms\", \"num_bedrooms\", \"num_floors\", \"num_recepts\", \"price\"]] = df_all[[\"num_bathrooms\", \"num_bedrooms\", \"num_floors\", \"num_recepts\", \"price\"]].astype(\"int\")\n",
    "df_all.info()"
   ]
  },
  {
   "cell_type": "code",
   "execution_count": 770,
   "metadata": {},
   "outputs": [],
   "source": [
    "# std_dev = 3\n",
    "# df = df_all[(np.abs(stats.zscore(df)) < float(std_dev)).all(axis=1)]\n",
    "# df.plot(figsize=(18,5))"
   ]
  },
  {
   "cell_type": "code",
   "execution_count": 771,
   "metadata": {},
   "outputs": [
    {
     "name": "stdout",
     "output_type": "stream",
     "text": [
      "<class 'pandas.core.frame.DataFrame'>\n",
      "Int64Index: 5853 entries, 0 to 5867\n",
      "Data columns (total 13 columns):\n",
      "county                 5853 non-null object\n",
      "last_published_date    5853 non-null object\n",
      "latitude               5853 non-null float64\n",
      "longitude              5853 non-null float64\n",
      "new_home               5853 non-null object\n",
      "num_bathrooms          5853 non-null int32\n",
      "num_bedrooms           5853 non-null int32\n",
      "num_floors             5853 non-null int32\n",
      "num_recepts            5853 non-null int32\n",
      "outcode                5853 non-null object\n",
      "post_town              5853 non-null object\n",
      "property_type          5853 non-null object\n",
      "log_price              5853 non-null float64\n",
      "dtypes: float64(3), int32(4), object(6)\n",
      "memory usage: 548.7+ KB\n"
     ]
    },
    {
     "name": "stderr",
     "output_type": "stream",
     "text": [
      "C:\\Users\\Ted_Liu\\AppData\\Local\\Continuum\\anaconda3\\lib\\site-packages\\ipykernel_launcher.py:7: SettingWithCopyWarning: \n",
      "A value is trying to be set on a copy of a slice from a DataFrame.\n",
      "Try using .loc[row_indexer,col_indexer] = value instead\n",
      "\n",
      "See the caveats in the documentation: http://pandas.pydata.org/pandas-docs/stable/indexing.html#indexing-view-versus-copy\n",
      "  import sys\n"
     ]
    }
   ],
   "source": [
    "df_all[\"county\"] = df_all[\"county\"].fillna(\"N\")\n",
    "df_all[\"new_home\"] = df_all[\"new_home\"].fillna(\"N\")\n",
    "df_all[\"post_town\"] = df_all[\"post_town\"].fillna(\"N\")\n",
    "df_all[\"property_type\"] = df_all[\"property_type\"].fillna(\"N\")\n",
    "\n",
    "df_drop_zeroprice = df_all[df_all[\"price\"] != 0]\n",
    "df_drop_zeroprice[\"log_price\"] = np.log(df_drop_zeroprice[\"price\"])\n",
    "df_drop_zeroprice = df_drop_zeroprice.drop(columns = [\"price\"])\n",
    "df_drop_zeroprice.info()"
   ]
  },
  {
   "cell_type": "code",
   "execution_count": 772,
   "metadata": {},
   "outputs": [
    {
     "data": {
      "text/plain": [
       "<matplotlib.axes._subplots.AxesSubplot at 0x2270527bb38>"
      ]
     },
     "execution_count": 772,
     "metadata": {},
     "output_type": "execute_result"
    },
    {
     "data": {
      "image/png": "[encoded data removed]",
      "text/plain": [
       "<Figure size 432x288 with 1 Axes>"
      ]
     },
     "metadata": {
      "needs_background": "light"
     },
     "output_type": "display_data"
    }
   ],
   "source": [
    "sns.distplot(df_all['price'], color = 'blue', hist=True, kde=True, bins=int(180/5))"
   ]
  },
  {
   "cell_type": "code",
   "execution_count": 773,
   "metadata": {},
   "outputs": [
    {
     "data": {
      "text/plain": [
       "<matplotlib.axes._subplots.AxesSubplot at 0x227136ac828>"
      ]
     },
     "execution_count": 773,
     "metadata": {},
     "output_type": "execute_result"
    },
    {
     "data": {
      "image/png": "[encoded data removed]",
      "text/plain": [
       "<Figure size 432x288 with 1 Axes>"
      ]
     },
     "metadata": {
      "needs_background": "light"
     },
     "output_type": "display_data"
    }
   ],
   "source": [
    "sns.distplot(df_drop_zeroprice['log_price'], color = 'red', hist=True, kde=True, bins=int(180/5))"
   ]
  },
  {
   "cell_type": "markdown",
   "metadata": {},
   "source": [
    "choose columns (categories)"
   ]
  },
  {
   "cell_type": "code",
   "execution_count": 774,
   "metadata": {},
   "outputs": [
    {
     "data": {
      "text/plain": [
       "county                 493\n",
       "last_published_date    493\n",
       "latitude               493\n",
       "longitude              493\n",
       "new_home               493\n",
       "num_bathrooms          493\n",
       "num_bedrooms           493\n",
       "num_floors             493\n",
       "num_recepts            493\n",
       "outcode                493\n",
       "post_town              493\n",
       "property_type          493\n",
       "log_price              493\n",
       "dtype: int64"
      ]
     },
     "execution_count": 774,
     "metadata": {},
     "output_type": "execute_result"
    }
   ],
   "source": [
    "df_drop_zeroprice[df_drop_zeroprice[\"new_home\"] == True].count()"
   ]
  },
  {
   "cell_type": "code",
   "execution_count": 775,
   "metadata": {},
   "outputs": [],
   "source": [
    "df_drop_zeroprice = df_drop_zeroprice.drop(columns = [\"new_home\"])"
   ]
  },
  {
   "cell_type": "markdown",
   "metadata": {},
   "source": [
    "P-value to choose columns (continus)"
   ]
  },
  {
   "cell_type": "code",
   "execution_count": 776,
   "metadata": {},
   "outputs": [
    {
     "ename": "KeyError",
     "evalue": "\"['new_home'] not found in axis\"",
     "output_type": "error",
     "traceback": [
      "\u001b[1;31m---------------------------------------------------------------------------\u001b[0m",
      "\u001b[1;31mKeyError\u001b[0m                                  Traceback (most recent call last)",
      "\u001b[1;32m<ipython-input-776-b742dca7a5a9>\u001b[0m in \u001b[0;36m<module>\u001b[1;34m\u001b[0m\n\u001b[0;32m      1\u001b[0m \u001b[1;31m#Adding constant column of ones, mandatory for sm.OLS model\u001b[0m\u001b[1;33m\u001b[0m\u001b[1;33m\u001b[0m\u001b[1;33m\u001b[0m\u001b[0m\n\u001b[1;32m----> 2\u001b[1;33m \u001b[0mx\u001b[0m \u001b[1;33m=\u001b[0m \u001b[0mdf_drop_zeroprice\u001b[0m\u001b[1;33m.\u001b[0m\u001b[0mdrop\u001b[0m\u001b[1;33m(\u001b[0m\u001b[0mcolumns\u001b[0m \u001b[1;33m=\u001b[0m \u001b[1;33m[\u001b[0m\u001b[1;34m\"log_price\"\u001b[0m\u001b[1;33m,\u001b[0m \u001b[1;34m\"county\"\u001b[0m\u001b[1;33m,\u001b[0m \u001b[1;34m\"last_published_date\"\u001b[0m\u001b[1;33m,\u001b[0m \u001b[1;34m\"new_home\"\u001b[0m\u001b[1;33m,\u001b[0m \u001b[1;34m\"outcode\"\u001b[0m\u001b[1;33m,\u001b[0m \u001b[1;34m\"post_town\"\u001b[0m\u001b[1;33m,\u001b[0m \u001b[1;34m\"property_type\"\u001b[0m\u001b[1;33m]\u001b[0m\u001b[1;33m)\u001b[0m\u001b[1;33m\u001b[0m\u001b[1;33m\u001b[0m\u001b[0m\n\u001b[0m\u001b[0;32m      3\u001b[0m \u001b[0my\u001b[0m \u001b[1;33m=\u001b[0m \u001b[0mdf_drop_zeroprice\u001b[0m\u001b[1;33m[\u001b[0m\u001b[1;33m[\u001b[0m\u001b[1;34m\"log_price\"\u001b[0m\u001b[1;33m]\u001b[0m\u001b[1;33m]\u001b[0m\u001b[1;33m\u001b[0m\u001b[1;33m\u001b[0m\u001b[0m\n\u001b[0;32m      4\u001b[0m \u001b[0mx_1\u001b[0m \u001b[1;33m=\u001b[0m \u001b[0msm\u001b[0m\u001b[1;33m.\u001b[0m\u001b[0madd_constant\u001b[0m\u001b[1;33m(\u001b[0m\u001b[0mx\u001b[0m\u001b[1;33m)\u001b[0m\u001b[1;33m\u001b[0m\u001b[1;33m\u001b[0m\u001b[0m\n\u001b[0;32m      5\u001b[0m \u001b[1;31m# #Fitting sm.OLS model\u001b[0m\u001b[1;33m\u001b[0m\u001b[1;33m\u001b[0m\u001b[1;33m\u001b[0m\u001b[0m\n",
      "\u001b[1;32m~\\AppData\\Local\\Continuum\\anaconda3\\lib\\site-packages\\pandas\\core\\frame.py\u001b[0m in \u001b[0;36mdrop\u001b[1;34m(self, labels, axis, index, columns, level, inplace, errors)\u001b[0m\n\u001b[0;32m   3938\u001b[0m                                            \u001b[0mindex\u001b[0m\u001b[1;33m=\u001b[0m\u001b[0mindex\u001b[0m\u001b[1;33m,\u001b[0m \u001b[0mcolumns\u001b[0m\u001b[1;33m=\u001b[0m\u001b[0mcolumns\u001b[0m\u001b[1;33m,\u001b[0m\u001b[1;33m\u001b[0m\u001b[1;33m\u001b[0m\u001b[0m\n\u001b[0;32m   3939\u001b[0m                                            \u001b[0mlevel\u001b[0m\u001b[1;33m=\u001b[0m\u001b[0mlevel\u001b[0m\u001b[1;33m,\u001b[0m \u001b[0minplace\u001b[0m\u001b[1;33m=\u001b[0m\u001b[0minplace\u001b[0m\u001b[1;33m,\u001b[0m\u001b[1;33m\u001b[0m\u001b[1;33m\u001b[0m\u001b[0m\n\u001b[1;32m-> 3940\u001b[1;33m                                            errors=errors)\n\u001b[0m\u001b[0;32m   3941\u001b[0m \u001b[1;33m\u001b[0m\u001b[0m\n\u001b[0;32m   3942\u001b[0m     @rewrite_axis_style_signature('mapper', [('copy', True),\n",
      "\u001b[1;32m~\\AppData\\Local\\Continuum\\anaconda3\\lib\\site-packages\\pandas\\core\\generic.py\u001b[0m in \u001b[0;36mdrop\u001b[1;34m(self, labels, axis, index, columns, level, inplace, errors)\u001b[0m\n\u001b[0;32m   3778\u001b[0m         \u001b[1;32mfor\u001b[0m \u001b[0maxis\u001b[0m\u001b[1;33m,\u001b[0m \u001b[0mlabels\u001b[0m \u001b[1;32min\u001b[0m \u001b[0maxes\u001b[0m\u001b[1;33m.\u001b[0m\u001b[0mitems\u001b[0m\u001b[1;33m(\u001b[0m\u001b[1;33m)\u001b[0m\u001b[1;33m:\u001b[0m\u001b[1;33m\u001b[0m\u001b[1;33m\u001b[0m\u001b[0m\n\u001b[0;32m   3779\u001b[0m             \u001b[1;32mif\u001b[0m \u001b[0mlabels\u001b[0m \u001b[1;32mis\u001b[0m \u001b[1;32mnot\u001b[0m \u001b[1;32mNone\u001b[0m\u001b[1;33m:\u001b[0m\u001b[1;33m\u001b[0m\u001b[1;33m\u001b[0m\u001b[0m\n\u001b[1;32m-> 3780\u001b[1;33m                 \u001b[0mobj\u001b[0m \u001b[1;33m=\u001b[0m \u001b[0mobj\u001b[0m\u001b[1;33m.\u001b[0m\u001b[0m_drop_axis\u001b[0m\u001b[1;33m(\u001b[0m\u001b[0mlabels\u001b[0m\u001b[1;33m,\u001b[0m \u001b[0maxis\u001b[0m\u001b[1;33m,\u001b[0m \u001b[0mlevel\u001b[0m\u001b[1;33m=\u001b[0m\u001b[0mlevel\u001b[0m\u001b[1;33m,\u001b[0m \u001b[0merrors\u001b[0m\u001b[1;33m=\u001b[0m\u001b[0merrors\u001b[0m\u001b[1;33m)\u001b[0m\u001b[1;33m\u001b[0m\u001b[1;33m\u001b[0m\u001b[0m\n\u001b[0m\u001b[0;32m   3781\u001b[0m \u001b[1;33m\u001b[0m\u001b[0m\n\u001b[0;32m   3782\u001b[0m         \u001b[1;32mif\u001b[0m \u001b[0minplace\u001b[0m\u001b[1;33m:\u001b[0m\u001b[1;33m\u001b[0m\u001b[1;33m\u001b[0m\u001b[0m\n",
      "\u001b[1;32m~\\AppData\\Local\\Continuum\\anaconda3\\lib\\site-packages\\pandas\\core\\generic.py\u001b[0m in \u001b[0;36m_drop_axis\u001b[1;34m(self, labels, axis, level, errors)\u001b[0m\n\u001b[0;32m   3810\u001b[0m                 \u001b[0mnew_axis\u001b[0m \u001b[1;33m=\u001b[0m \u001b[0maxis\u001b[0m\u001b[1;33m.\u001b[0m\u001b[0mdrop\u001b[0m\u001b[1;33m(\u001b[0m\u001b[0mlabels\u001b[0m\u001b[1;33m,\u001b[0m \u001b[0mlevel\u001b[0m\u001b[1;33m=\u001b[0m\u001b[0mlevel\u001b[0m\u001b[1;33m,\u001b[0m \u001b[0merrors\u001b[0m\u001b[1;33m=\u001b[0m\u001b[0merrors\u001b[0m\u001b[1;33m)\u001b[0m\u001b[1;33m\u001b[0m\u001b[1;33m\u001b[0m\u001b[0m\n\u001b[0;32m   3811\u001b[0m             \u001b[1;32melse\u001b[0m\u001b[1;33m:\u001b[0m\u001b[1;33m\u001b[0m\u001b[1;33m\u001b[0m\u001b[0m\n\u001b[1;32m-> 3812\u001b[1;33m                 \u001b[0mnew_axis\u001b[0m \u001b[1;33m=\u001b[0m \u001b[0maxis\u001b[0m\u001b[1;33m.\u001b[0m\u001b[0mdrop\u001b[0m\u001b[1;33m(\u001b[0m\u001b[0mlabels\u001b[0m\u001b[1;33m,\u001b[0m \u001b[0merrors\u001b[0m\u001b[1;33m=\u001b[0m\u001b[0merrors\u001b[0m\u001b[1;33m)\u001b[0m\u001b[1;33m\u001b[0m\u001b[1;33m\u001b[0m\u001b[0m\n\u001b[0m\u001b[0;32m   3813\u001b[0m             \u001b[0mresult\u001b[0m \u001b[1;33m=\u001b[0m \u001b[0mself\u001b[0m\u001b[1;33m.\u001b[0m\u001b[0mreindex\u001b[0m\u001b[1;33m(\u001b[0m\u001b[1;33m**\u001b[0m\u001b[1;33m{\u001b[0m\u001b[0maxis_name\u001b[0m\u001b[1;33m:\u001b[0m \u001b[0mnew_axis\u001b[0m\u001b[1;33m}\u001b[0m\u001b[1;33m)\u001b[0m\u001b[1;33m\u001b[0m\u001b[1;33m\u001b[0m\u001b[0m\n\u001b[0;32m   3814\u001b[0m \u001b[1;33m\u001b[0m\u001b[0m\n",
      "\u001b[1;32m~\\AppData\\Local\\Continuum\\anaconda3\\lib\\site-packages\\pandas\\core\\indexes\\base.py\u001b[0m in \u001b[0;36mdrop\u001b[1;34m(self, labels, errors)\u001b[0m\n\u001b[0;32m   4963\u001b[0m             \u001b[1;32mif\u001b[0m \u001b[0merrors\u001b[0m \u001b[1;33m!=\u001b[0m \u001b[1;34m'ignore'\u001b[0m\u001b[1;33m:\u001b[0m\u001b[1;33m\u001b[0m\u001b[1;33m\u001b[0m\u001b[0m\n\u001b[0;32m   4964\u001b[0m                 raise KeyError(\n\u001b[1;32m-> 4965\u001b[1;33m                     '{} not found in axis'.format(labels[mask]))\n\u001b[0m\u001b[0;32m   4966\u001b[0m             \u001b[0mindexer\u001b[0m \u001b[1;33m=\u001b[0m \u001b[0mindexer\u001b[0m\u001b[1;33m[\u001b[0m\u001b[1;33m~\u001b[0m\u001b[0mmask\u001b[0m\u001b[1;33m]\u001b[0m\u001b[1;33m\u001b[0m\u001b[1;33m\u001b[0m\u001b[0m\n\u001b[0;32m   4967\u001b[0m         \u001b[1;32mreturn\u001b[0m \u001b[0mself\u001b[0m\u001b[1;33m.\u001b[0m\u001b[0mdelete\u001b[0m\u001b[1;33m(\u001b[0m\u001b[0mindexer\u001b[0m\u001b[1;33m)\u001b[0m\u001b[1;33m\u001b[0m\u001b[1;33m\u001b[0m\u001b[0m\n",
      "\u001b[1;31mKeyError\u001b[0m: \"['new_home'] not found in axis\""
     ]
    }
   ],
   "source": [
    "#Adding constant column of ones, mandatory for sm.OLS model\n",
    "x = df_drop_zeroprice.drop(columns = [\"log_price\", \"county\", \"last_published_date\", \"new_home\", \"outcode\", \"post_town\", \"property_type\"])\n",
    "y = df_drop_zeroprice[[\"log_price\"]]\n",
    "x_1 = sm.add_constant(x)\n",
    "# #Fitting sm.OLS model\n",
    "model = sm.OLS(np.asarray(y), np.asarray(x_1)).fit()\n",
    "model.pvalues"
   ]
  },
  {
   "cell_type": "code",
   "execution_count": null,
   "metadata": {},
   "outputs": [],
   "source": [
    "def backwardElimination(x, y, sl):\n",
    "    cols = list(x.columns)\n",
    "    pmax = 1\n",
    "    while (len(cols)>0):\n",
    "        p= []                                                                                    \n",
    "        X_1 = x[cols]\n",
    "        X_1 = sm.add_constant(X_1)\n",
    "        model = sm.OLS(y,X_1).fit()\n",
    "        p = pd.Series(model.pvalues.values[1:],index = cols)      \n",
    "        pmax = max(p)\n",
    "        feature_with_p_max = p.idxmax()\n",
    "        if(pmax>0.05):\n",
    "            cols.remove(feature_with_p_max)\n",
    "        else:\n",
    "            break\n",
    "    selected_features_BE = cols\n",
    "    print(selected_features_BE)\n",
    "backwardElimination(x, y, 0.05)"
   ]
  },
  {
   "cell_type": "code",
   "execution_count": null,
   "metadata": {},
   "outputs": [],
   "source": [
    "# drop the column num_floors\n",
    "df_drop_zeroprice = df_drop_zeroprice.drop(columns = [\"num_floors\"])"
   ]
  },
  {
   "cell_type": "markdown",
   "metadata": {},
   "source": [
    "Correlation"
   ]
  },
  {
   "cell_type": "code",
   "execution_count": 777,
   "metadata": {},
   "outputs": [
    {
     "data": {
      "image/png": "[encoded data removed]",
      "text/plain": [
       "<Figure size 576x504 with 2 Axes>"
      ]
     },
     "metadata": {
      "needs_background": "light"
     },
     "output_type": "display_data"
    }
   ],
   "source": [
    "#Using Pearson Correlation\n",
    "plt.figure(figsize=(8,7))\n",
    "cor = df_drop_zeroprice.corr()\n",
    "sns.heatmap(cor, annot=True, cmap=plt.cm.Reds)\n",
    "plt.show()"
   ]
  },
  {
   "cell_type": "code",
   "execution_count": 778,
   "metadata": {},
   "outputs": [
    {
     "data": {
      "text/plain": [
       "num_bedrooms    0.686463\n",
       "log_price       1.000000\n",
       "Name: log_price, dtype: float64"
      ]
     },
     "execution_count": 778,
     "metadata": {},
     "output_type": "execute_result"
    }
   ],
   "source": [
    "cor_target = abs(cor[\"log_price\"])\n",
    "#Selecting highly correlated features\n",
    "relevant_features = cor_target[cor_target>0.5]\n",
    "relevant_features"
   ]
  },
  {
   "cell_type": "markdown",
   "metadata": {},
   "source": [
    "Split the train and test dataframe"
   ]
  },
  {
   "cell_type": "code",
   "execution_count": 779,
   "metadata": {},
   "outputs": [
    {
     "name": "stdout",
     "output_type": "stream",
     "text": [
      "<class 'pandas.core.frame.DataFrame'>\n",
      "Int64Index: 4682 entries, 3436 to 5171\n",
      "Columns: 145 entries, latitude to property_type_Villa\n",
      "dtypes: float64(2), int32(4), uint8(139)\n",
      "memory usage: 818.4 KB\n"
     ]
    }
   ],
   "source": [
    "feature_df = df_drop_zeroprice.drop(columns = [\"log_price\"])\n",
    "price_df = df_drop_zeroprice[[\"log_price\"]]\n",
    "\n",
    "feature_df_dummy = pd.get_dummies(feature_df, prefix_sep='_', drop_first=True)\n",
    "\n",
    "x_train, x_test, y_train, y_test = train_test_split(feature_df_dummy, price_df, test_size=0.2, random_state=1)\n",
    "\n",
    "price_df.head()\n",
    "x_train.info()"
   ]
  },
  {
   "cell_type": "code",
   "execution_count": 780,
   "metadata": {},
   "outputs": [
    {
     "data": {
      "text/html": [
       "<div>\n",
       "<style scoped>\n",
       "    .dataframe tbody tr th:only-of-type {\n",
       "        vertical-align: middle;\n",
       "    }\n",
       "\n",
       "    .dataframe tbody tr th {\n",
       "        vertical-align: top;\n",
       "    }\n",
       "\n",
       "    .dataframe thead th {\n",
       "        text-align: right;\n",
       "    }\n",
       "</style>\n",
       "<table border=\"1\" class=\"dataframe\">\n",
       "  <thead>\n",
       "    <tr style=\"text-align: right;\">\n",
       "      <th></th>\n",
       "      <th>latitude</th>\n",
       "      <th>longitude</th>\n",
       "      <th>num_bathrooms</th>\n",
       "      <th>num_bedrooms</th>\n",
       "      <th>num_floors</th>\n",
       "      <th>num_recepts</th>\n",
       "      <th>county_Bristol</th>\n",
       "      <th>county_Devon</th>\n",
       "      <th>county_Dorset</th>\n",
       "      <th>county_N</th>\n",
       "      <th>...</th>\n",
       "      <th>property_type_Mobile/park home</th>\n",
       "      <th>property_type_N</th>\n",
       "      <th>property_type_Parking/garage</th>\n",
       "      <th>property_type_Semi-detached bungalow</th>\n",
       "      <th>property_type_Semi-detached house</th>\n",
       "      <th>property_type_Studio</th>\n",
       "      <th>property_type_Terraced bungalow</th>\n",
       "      <th>property_type_Terraced house</th>\n",
       "      <th>property_type_Town house</th>\n",
       "      <th>property_type_Villa</th>\n",
       "    </tr>\n",
       "  </thead>\n",
       "  <tbody>\n",
       "    <tr>\n",
       "      <th>3436</th>\n",
       "      <td>51.338020</td>\n",
       "      <td>-2.957877</td>\n",
       "      <td>2</td>\n",
       "      <td>3</td>\n",
       "      <td>0</td>\n",
       "      <td>1</td>\n",
       "      <td>0</td>\n",
       "      <td>0</td>\n",
       "      <td>0</td>\n",
       "      <td>0</td>\n",
       "      <td>...</td>\n",
       "      <td>0</td>\n",
       "      <td>0</td>\n",
       "      <td>0</td>\n",
       "      <td>0</td>\n",
       "      <td>0</td>\n",
       "      <td>0</td>\n",
       "      <td>0</td>\n",
       "      <td>1</td>\n",
       "      <td>0</td>\n",
       "      <td>0</td>\n",
       "    </tr>\n",
       "    <tr>\n",
       "      <th>2551</th>\n",
       "      <td>51.034737</td>\n",
       "      <td>-3.069013</td>\n",
       "      <td>0</td>\n",
       "      <td>3</td>\n",
       "      <td>0</td>\n",
       "      <td>0</td>\n",
       "      <td>0</td>\n",
       "      <td>0</td>\n",
       "      <td>0</td>\n",
       "      <td>0</td>\n",
       "      <td>...</td>\n",
       "      <td>0</td>\n",
       "      <td>0</td>\n",
       "      <td>0</td>\n",
       "      <td>0</td>\n",
       "      <td>1</td>\n",
       "      <td>0</td>\n",
       "      <td>0</td>\n",
       "      <td>0</td>\n",
       "      <td>0</td>\n",
       "      <td>0</td>\n",
       "    </tr>\n",
       "    <tr>\n",
       "      <th>5079</th>\n",
       "      <td>51.254253</td>\n",
       "      <td>-2.491344</td>\n",
       "      <td>1</td>\n",
       "      <td>1</td>\n",
       "      <td>0</td>\n",
       "      <td>1</td>\n",
       "      <td>0</td>\n",
       "      <td>0</td>\n",
       "      <td>0</td>\n",
       "      <td>0</td>\n",
       "      <td>...</td>\n",
       "      <td>0</td>\n",
       "      <td>0</td>\n",
       "      <td>0</td>\n",
       "      <td>0</td>\n",
       "      <td>0</td>\n",
       "      <td>0</td>\n",
       "      <td>0</td>\n",
       "      <td>0</td>\n",
       "      <td>0</td>\n",
       "      <td>0</td>\n",
       "    </tr>\n",
       "    <tr>\n",
       "      <th>1213</th>\n",
       "      <td>50.989086</td>\n",
       "      <td>-2.408865</td>\n",
       "      <td>1</td>\n",
       "      <td>3</td>\n",
       "      <td>0</td>\n",
       "      <td>2</td>\n",
       "      <td>0</td>\n",
       "      <td>0</td>\n",
       "      <td>0</td>\n",
       "      <td>0</td>\n",
       "      <td>...</td>\n",
       "      <td>0</td>\n",
       "      <td>0</td>\n",
       "      <td>0</td>\n",
       "      <td>0</td>\n",
       "      <td>0</td>\n",
       "      <td>0</td>\n",
       "      <td>0</td>\n",
       "      <td>0</td>\n",
       "      <td>0</td>\n",
       "      <td>0</td>\n",
       "    </tr>\n",
       "    <tr>\n",
       "      <th>1724</th>\n",
       "      <td>51.203728</td>\n",
       "      <td>-3.485259</td>\n",
       "      <td>2</td>\n",
       "      <td>4</td>\n",
       "      <td>0</td>\n",
       "      <td>1</td>\n",
       "      <td>0</td>\n",
       "      <td>0</td>\n",
       "      <td>0</td>\n",
       "      <td>0</td>\n",
       "      <td>...</td>\n",
       "      <td>0</td>\n",
       "      <td>0</td>\n",
       "      <td>0</td>\n",
       "      <td>0</td>\n",
       "      <td>0</td>\n",
       "      <td>0</td>\n",
       "      <td>0</td>\n",
       "      <td>0</td>\n",
       "      <td>0</td>\n",
       "      <td>0</td>\n",
       "    </tr>\n",
       "  </tbody>\n",
       "</table>\n",
       "<p>5 rows × 145 columns</p>\n",
       "</div>"
      ],
      "text/plain": [
       "       latitude  longitude  num_bathrooms  num_bedrooms  num_floors  \\\n",
       "3436  51.338020  -2.957877              2             3           0   \n",
       "2551  51.034737  -3.069013              0             3           0   \n",
       "5079  51.254253  -2.491344              1             1           0   \n",
       "1213  50.989086  -2.408865              1             3           0   \n",
       "1724  51.203728  -3.485259              2             4           0   \n",
       "\n",
       "      num_recepts  county_Bristol  county_Devon  county_Dorset  county_N  ...  \\\n",
       "3436            1               0             0              0         0  ...   \n",
       "2551            0               0             0              0         0  ...   \n",
       "5079            1               0             0              0         0  ...   \n",
       "1213            2               0             0              0         0  ...   \n",
       "1724            1               0             0              0         0  ...   \n",
       "\n",
       "      property_type_Mobile/park home  property_type_N  \\\n",
       "3436                               0                0   \n",
       "2551                               0                0   \n",
       "5079                               0                0   \n",
       "1213                               0                0   \n",
       "1724                               0                0   \n",
       "\n",
       "      property_type_Parking/garage  property_type_Semi-detached bungalow  \\\n",
       "3436                             0                                     0   \n",
       "2551                             0                                     0   \n",
       "5079                             0                                     0   \n",
       "1213                             0                                     0   \n",
       "1724                             0                                     0   \n",
       "\n",
       "      property_type_Semi-detached house  property_type_Studio  \\\n",
       "3436                                  0                     0   \n",
       "2551                                  1                     0   \n",
       "5079                                  0                     0   \n",
       "1213                                  0                     0   \n",
       "1724                                  0                     0   \n",
       "\n",
       "      property_type_Terraced bungalow  property_type_Terraced house  \\\n",
       "3436                                0                             1   \n",
       "2551                                0                             0   \n",
       "5079                                0                             0   \n",
       "1213                                0                             0   \n",
       "1724                                0                             0   \n",
       "\n",
       "      property_type_Town house  property_type_Villa  \n",
       "3436                         0                    0  \n",
       "2551                         0                    0  \n",
       "5079                         0                    0  \n",
       "1213                         0                    0  \n",
       "1724                         0                    0  \n",
       "\n",
       "[5 rows x 145 columns]"
      ]
     },
     "execution_count": 780,
     "metadata": {},
     "output_type": "execute_result"
    }
   ],
   "source": [
    "x_train.head()"
   ]
  },
  {
   "cell_type": "markdown",
   "metadata": {},
   "source": [
    "Linear regression analysis"
   ]
  },
  {
   "cell_type": "markdown",
   "metadata": {},
   "source": [
    "Best prediction"
   ]
  },
  {
   "cell_type": "code",
   "execution_count": 823,
   "metadata": {},
   "outputs": [
    {
     "data": {
      "text/plain": [
       "11.918057184177155"
      ]
     },
     "execution_count": 823,
     "metadata": {},
     "output_type": "execute_result"
    }
   ],
   "source": [
    "np.array(y_test)[1][0]"
   ]
  },
  {
   "cell_type": "code",
   "execution_count": 832,
   "metadata": {},
   "outputs": [],
   "source": [
    "def pred_score(df_pred, df_test):\n",
    "    count = 0\n",
    "    for i in range(0, len(df_pred)):\n",
    "        if np.array(df_pred)[i][0]*1.1 >= np.array(df_test)[i][0] and  np.array(df_pred)[i][0]*0.9 <= np.array(df_test)[i][0]:\n",
    "            count += 1\n",
    "    return count/len(df_pred)"
   ]
  },
  {
   "cell_type": "code",
   "execution_count": 813,
   "metadata": {},
   "outputs": [
    {
     "data": {
      "text/plain": [
       "log_price    True\n",
       "Name: 4927, dtype: bool"
      ]
     },
     "execution_count": 813,
     "metadata": {},
     "output_type": "execute_result"
    }
   ],
   "source": []
  },
  {
   "cell_type": "code",
   "execution_count": 837,
   "metadata": {},
   "outputs": [
    {
     "name": "stdout",
     "output_type": "stream",
     "text": [
      "0.7359011699253242\n"
     ]
    }
   ],
   "source": [
    "# y_test = ravel(y_test)\n",
    "# x_train.head()\n",
    "x_test.head()\n",
    "score_list = []\n",
    "for i in range(100):\n",
    "    x_train, x_test, y_train, y_test = train_test_split(feature_df_dummy, price_df, test_size=0.2)\n",
    "    lr = LinearRegression()\n",
    "    lr.fit(x_train, y_train)\n",
    "    score_list.append(lr.score(x_test, y_test))\n",
    "print(max(score_list))"
   ]
  },
  {
   "cell_type": "markdown",
   "metadata": {},
   "source": [
    "Ridge regression"
   ]
  },
  {
   "cell_type": "code",
   "execution_count": 782,
   "metadata": {},
   "outputs": [
    {
     "name": "stderr",
     "output_type": "stream",
     "text": [
      "C:\\Users\\Ted_Liu\\AppData\\Local\\Continuum\\anaconda3\\lib\\site-packages\\sklearn\\preprocessing\\data.py:645: DataConversionWarning: Data with input dtype uint8, int32, float64 were all converted to float64 by StandardScaler.\n",
      "  return self.partial_fit(X, y)\n",
      "C:\\Users\\Ted_Liu\\AppData\\Local\\Continuum\\anaconda3\\lib\\site-packages\\sklearn\\base.py:464: DataConversionWarning: Data with input dtype uint8, int32, float64 were all converted to float64 by StandardScaler.\n",
      "  return self.fit(X, **fit_params).transform(X)\n"
     ]
    }
   ],
   "source": [
    "# Standarize features\n",
    "scaler = StandardScaler()\n",
    "x_std = scaler.fit_transform(x_train)"
   ]
  },
  {
   "cell_type": "code",
   "execution_count": 802,
   "metadata": {},
   "outputs": [
    {
     "data": {
      "text/plain": [
       "9.99"
      ]
     },
     "execution_count": 802,
     "metadata": {},
     "output_type": "execute_result"
    }
   ],
   "source": [
    "#Set the different values of alpha to be tested\n",
    "alphas = np.arange(0.01, 10, 0.01).tolist()\n",
    "alpha_ridge = RidgeCV(alphas)\n",
    "# Fit the linear regression\n",
    "model_cv = alpha_ridge.fit(x_std, y_train)\n",
    "#best alpha\n",
    "best_a = model_cv.alpha_\n",
    "best_a"
   ]
  },
  {
   "cell_type": "code",
   "execution_count": 838,
   "metadata": {},
   "outputs": [
    {
     "name": "stdout",
     "output_type": "stream",
     "text": [
      "0.7381378415365261\n"
     ]
    }
   ],
   "source": [
    "score_list = []\n",
    "for i in range(100):\n",
    "    x_train, x_test, y_train, y_test = train_test_split(feature_df_dummy, price_df, test_size=0.2)\n",
    "    rr = Ridge(alpha=a)\n",
    "    rr.fit(x_train, y_train)\n",
    "    score_list.append(rr.score(x_test, y_test))\n",
    "print(max(score_list))"
   ]
  }
 ],
 "metadata": {
  "kernelspec": {
   "display_name": "Python 3",
   "language": "python",
   "name": "python3"
  },
  "language_info": {
   "codemirror_mode": {
    "name": "ipython",
    "version": 3
   },
   "file_extension": ".py",
   "mimetype": "text/x-python",
   "name": "python",
   "nbconvert_exporter": "python",
   "pygments_lexer": "ipython3",
   "version": "3.7.3"
  }
 },
 "nbformat": 4,
 "nbformat_minor": 2
}
