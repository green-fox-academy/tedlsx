{
 "cells": [
  {
   "cell_type": "code",
   "execution_count": 241,
   "metadata": {},
   "outputs": [],
   "source": [
    "import requests\n",
    "from bs4 import BeautifulSoup\n",
    "import numpy as np\n",
    "import pandas as pd\n",
    "from scipy import stats\n",
    "import statsmodels.api as sm\n",
    "from sklearn.model_selection import train_test_split\n",
    "from sklearn.linear_model import LinearRegression\n",
    "from sklearn.linear_model import Ridge\n",
    "from sklearn.linear_model import RidgeCV\n",
    "# from sklearn.metrics import confusion_matrix\n",
    "from sklearn.metrics import r2_score\n",
    "import seaborn as sns\n",
    "import matplotlib.pyplot as plt\n",
    "\n",
    "from sklearn.preprocessing import StandardScaler\n",
    "# import visuals as vs\n",
    "pd.options.mode.chained_assignment = None\n",
    "# import xml.etree.cElementTree as et\n",
    "# import xmltodict"
   ]
  },
  {
   "cell_type": "markdown",
   "metadata": {},
   "source": [
    "Function to read soup"
   ]
  },
  {
   "cell_type": "code",
   "execution_count": 242,
   "metadata": {},
   "outputs": [],
   "source": [
    "def soup_to_df(s):\n",
    "    dfcols = ['outcode', 'last_published_date','latitude', 'longitude', 'post_town', 'num_bathrooms', 'num_bedrooms', 'num_floors', \n",
    "              'num_recepts', 'property_type', 'street_name', \"price\"]\n",
    "    df_xml = pd.DataFrame(columns=dfcols)\n",
    "\n",
    "    for node in s.find_all(\"listing\"):\n",
    "        outcode =  node.find('outcode').get_text()\n",
    "        last_published_date = node.find('last_published_date').get_text()\n",
    "        latitude = node.find('latitude').get_text()\n",
    "        longitude = node.find('longitude').get_text()\n",
    "        post_town = node.find('post_town').get_text()\n",
    "        num_bathrooms = node.find('num_bathrooms').get_text()\n",
    "        num_bedrooms = node.find('num_bedrooms').get_text()\n",
    "        num_floors = node.find('num_floors').get_text()\n",
    "        num_recepts = node.find('num_recepts').get_text()\n",
    "        property_type = node.find('property_type').get_text()\n",
    "        street_name = node.find('street_name').get_text()\n",
    "        price = node.find('price').get_text()\n",
    "\n",
    "        df_xml = df_xml.append(pd.Series([outcode, float(latitude), float(longitude), post_town, last_published_date, int(num_bathrooms),\n",
    "                                          int(num_bedrooms), int(num_floors), int(num_recepts), property_type, street_name, int(price)], index=dfcols),ignore_index=True)\n",
    "    \n",
    "    return df_xml\n",
    "# df = pd.read_html(str(table))[0]\n",
    "# print(df[0].to_json(orient='records'))"
   ]
  },
  {
   "cell_type": "markdown",
   "metadata": {},
   "source": [
    "Build the DF contain all data"
   ]
  },
  {
   "cell_type": "code",
   "execution_count": null,
   "metadata": {},
   "outputs": [
    {
     "name": "stderr",
     "output_type": "stream",
     "text": [
      "C:\\Users\\Ted_Liu\\AppData\\Local\\Continuum\\anaconda3\\lib\\site-packages\\ipykernel_launcher.py:9: FutureWarning: Sorting because non-concatenation axis is not aligned. A future version\n",
      "of pandas will change to not sort by default.\n",
      "\n",
      "To accept the future behavior, pass 'sort=False'.\n",
      "\n",
      "To retain the current behavior and silence the warning, pass 'sort=True'.\n",
      "\n",
      "  if __name__ == '__main__':\n"
     ]
    }
   ],
   "source": [
    "dfcols = ['outcode', 'latitude', 'longitude', 'post_town', 'last_published_date', 'num_bathrooms', 'num_bedrooms', 'num_floors', \n",
    "              'num_recepts', 'property_type', 'street_name', \"price\"]\n",
    "df_all = pd.DataFrame(columns=dfcols)\n",
    "for i in range(1, 58):\n",
    "    baseurl = f\"https://api.zoopla.co.uk/api/v1/property_listings?api_key=9zpbeza9n858g3u2g633u3rb&county=Somerset&country=England&listing_status=sale&include_sold=1&page_number={i}&page_size=100\"\n",
    "    page = requests.get(baseurl)\n",
    "    soup = BeautifulSoup(page.content)\n",
    "    df = soup_to_df(soup)\n",
    "    df_all = pd.concat([df_all, df], axis = 0) \n",
    "# df_all.to_csv(\"estates.csv\")"
   ]
  },
  {
   "cell_type": "code",
   "execution_count": null,
   "metadata": {},
   "outputs": [],
   "source": [
    "df_all = pd.read_csv(\"estates.csv\")"
   ]
  },
  {
   "cell_type": "code",
   "execution_count": null,
   "metadata": {},
   "outputs": [],
   "source": [
    "df_all.info()\n",
    "df_all.head()"
   ]
  },
  {
   "cell_type": "markdown",
   "metadata": {},
   "source": [
    "EDA"
   ]
  },
  {
   "cell_type": "code",
   "execution_count": null,
   "metadata": {},
   "outputs": [],
   "source": [
    "# for outcode\n",
    "# d = df_all[\"outcode\"].groupby(df_all[\"outcode\"])\n",
    "# ax = sns.barplot(x=d.size().index, y=d.size().values)\n",
    "\n",
    "# ax = sns.countplot(x = \"outcode\", data = df_all)\n",
    "# plt.figure(figsize=(15,8))\n",
    "# ax.set_xticklabels(ax.get_xticklabels(), fontsize=5, rotation=40, ha=\"right\")\n",
    "# ax.set_xticklabels(ax.get_xticklabels(), )\n",
    "# plt.tight_layout()\n",
    "# plt.show()\n",
    "df_all = df_all.drop(columns = [\"Unnamed: 0\", \"description\", \"shared_occupancy\", \"details_url\", \"first_published_date\", \"shared_occupancy\"])\n",
    "\n",
    "for i in range(1, len(df_all.columns)):\n",
    "    name = df_all.columns[i]\n",
    "    print(len(df_all[name].unique()), name, df_all[name].unique())\n",
    "# df_all[\"outcode\"].unique()"
   ]
  },
  {
   "cell_type": "code",
   "execution_count": null,
   "metadata": {},
   "outputs": [],
   "source": [
    "df_all = df_all.drop(columns = [\"address\", \"street_name\"])\n",
    "# display(type(df_all[\"last_published_date\"][0]))\n",
    "# display(df_all[\"last_published_date\"][0])\n",
    "for i in range(len(df_all[\"last_published_date\"])):\n",
    "    df_all.loc[i, \"last_published_date\"] = df_all.loc[i, \"last_published_date\"][:4]"
   ]
  },
  {
   "cell_type": "code",
   "execution_count": null,
   "metadata": {},
   "outputs": [],
   "source": [
    "df_all[\"last_published_date\"].unique()"
   ]
  },
  {
   "cell_type": "markdown",
   "metadata": {},
   "source": [
    "Data preprocessing"
   ]
  },
  {
   "cell_type": "code",
   "execution_count": null,
   "metadata": {},
   "outputs": [],
   "source": [
    "df_all.head()"
   ]
  },
  {
   "cell_type": "code",
   "execution_count": null,
   "metadata": {},
   "outputs": [],
   "source": [
    "df_all[[\"num_bathrooms\", \"num_bedrooms\", \"num_floors\", \"num_recepts\", \"price\"]] = df_all[[\"num_bathrooms\", \"num_bedrooms\", \"num_floors\", \"num_recepts\", \"price\"]].astype(\"int\")\n",
    "df_all.info()"
   ]
  },
  {
   "cell_type": "code",
   "execution_count": null,
   "metadata": {},
   "outputs": [],
   "source": [
    "# std_dev = 3\n",
    "# df = df_all[(np.abs(stats.zscore(df)) < float(std_dev)).all(axis=1)]\n",
    "# df.plot(figsize=(18,5))"
   ]
  },
  {
   "cell_type": "code",
   "execution_count": null,
   "metadata": {},
   "outputs": [],
   "source": [
    "df_all[\"county\"] = df_all[\"county\"].fillna(\"N\")\n",
    "df_all[\"new_home\"] = df_all[\"new_home\"].fillna(\"N\")\n",
    "df_all[\"post_town\"] = df_all[\"post_town\"].fillna(\"N\")\n",
    "df_all[\"property_type\"] = df_all[\"property_type\"].fillna(\"N\")\n",
    "\n",
    "df_drop_zeroprice = df_all[df_all[\"price\"] != 0]\n",
    "df_drop_zeroprice[\"log_price\"] = np.log(df_drop_zeroprice[\"price\"])\n",
    "df_drop_zeroprice = df_drop_zeroprice.drop(columns = [\"price\"])\n",
    "df_drop_zeroprice.info()"
   ]
  },
  {
   "cell_type": "markdown",
   "metadata": {},
   "source": [
    "Relationship between location and log_price"
   ]
  },
  {
   "cell_type": "code",
   "execution_count": null,
   "metadata": {},
   "outputs": [],
   "source": [
    "sns.relplot(x=\"longitude\", y=\"latitude\", hue=\"log_price\", data=df_drop_zeroprice)"
   ]
  },
  {
   "cell_type": "code",
   "execution_count": null,
   "metadata": {},
   "outputs": [],
   "source": [
    "sns.relplot(x=\"num_bedrooms\", y=\"log_price\", data=df_drop_zeroprice)\n",
    "sns.relplot(x=\"num_bathrooms\", y=\"log_price\", data=df_drop_zeroprice)\n",
    "sns.relplot(x=\"num_floors\", y=\"log_price\", data=df_drop_zeroprice)\n",
    "sns.relplot(x=\"num_recepts\", y=\"log_price\", data=df_drop_zeroprice)"
   ]
  },
  {
   "cell_type": "code",
   "execution_count": null,
   "metadata": {},
   "outputs": [],
   "source": [
    "sns.catplot(x=\"property_type\", y=\"log_price\", data=df_drop_zeroprice)\n",
    "plt.xticks(rotation=90)"
   ]
  },
  {
   "cell_type": "code",
   "execution_count": null,
   "metadata": {},
   "outputs": [],
   "source": [
    "# plt.figure(figsize=(10,10))\n",
    "# fig,ax=plt.subplots(figsize=(15,5))\n",
    "sns.catplot(x=\"post_town\", y=\"log_price\", data=df_drop_zeroprice, height=4, aspect=3)\n",
    "plt.xticks(rotation=\"vertical\")\n",
    "# plt.show()"
   ]
  },
  {
   "cell_type": "code",
   "execution_count": null,
   "metadata": {},
   "outputs": [],
   "source": [
    "sns.distplot(df_all['price'], color = 'blue', hist=True, kde=True, bins=int(180/5))"
   ]
  },
  {
   "cell_type": "code",
   "execution_count": null,
   "metadata": {},
   "outputs": [],
   "source": [
    "sns.distplot(df_drop_zeroprice['log_price'], color = 'red', hist=True, kde=True, bins=int(180/5))"
   ]
  },
  {
   "cell_type": "markdown",
   "metadata": {},
   "source": [
    "choose columns (categories)"
   ]
  },
  {
   "cell_type": "code",
   "execution_count": 15,
   "metadata": {},
   "outputs": [
    {
     "data": {
      "text/plain": [
       "county                 493\n",
       "last_published_date    493\n",
       "latitude               493\n",
       "longitude              493\n",
       "new_home               493\n",
       "num_bathrooms          493\n",
       "num_bedrooms           493\n",
       "num_floors             493\n",
       "num_recepts            493\n",
       "outcode                493\n",
       "post_town              493\n",
       "property_type          493\n",
       "log_price              493\n",
       "dtype: int64"
      ]
     },
     "execution_count": 15,
     "metadata": {},
     "output_type": "execute_result"
    }
   ],
   "source": [
    "df_drop_zeroprice[df_drop_zeroprice[\"new_home\"] == True].count()"
   ]
  },
  {
   "cell_type": "code",
   "execution_count": 16,
   "metadata": {},
   "outputs": [],
   "source": [
    "df_drop_zeroprice = df_drop_zeroprice.drop(columns = [\"new_home\"])"
   ]
  },
  {
   "cell_type": "markdown",
   "metadata": {},
   "source": [
    "P-value to choose columns (continus)"
   ]
  },
  {
   "cell_type": "code",
   "execution_count": 19,
   "metadata": {},
   "outputs": [
    {
     "data": {
      "text/plain": [
       "array([1.15263928e-01, 2.23264296e-17, 6.43275486e-11, 5.39683752e-06,\n",
       "       0.00000000e+00, 5.58872909e-01, 1.75894482e-48])"
      ]
     },
     "execution_count": 19,
     "metadata": {},
     "output_type": "execute_result"
    }
   ],
   "source": [
    "#Adding constant column of ones, mandatory for sm.OLS model\n",
    "x = df_drop_zeroprice.drop(columns = [\"log_price\", \"county\", \"last_published_date\", \"outcode\", \"post_town\", \"property_type\"])\n",
    "y = df_drop_zeroprice[[\"log_price\"]]\n",
    "x_1 = sm.add_constant(x)\n",
    "# #Fitting sm.OLS model\n",
    "model = sm.OLS(np.array(y), np.array(x_1)).fit()\n",
    "model.pvalues"
   ]
  },
  {
   "cell_type": "code",
   "execution_count": 21,
   "metadata": {},
   "outputs": [
    {
     "name": "stdout",
     "output_type": "stream",
     "text": [
      "['latitude', 'longitude', 'num_bathrooms', 'num_bedrooms', 'num_recepts']\n"
     ]
    }
   ],
   "source": [
    "def backwardElimination(x, y, sl):\n",
    "    cols = list(x.columns)\n",
    "    pmax = 1\n",
    "    while (len(cols)>0):\n",
    "        p= []                                                                                    \n",
    "        X_1 = x[cols]\n",
    "        X_1 = sm.add_constant(X_1)\n",
    "        model = sm.OLS(y,X_1).fit()\n",
    "        p = pd.Series(model.pvalues.values[1:],index = cols)      \n",
    "        pmax = max(p)\n",
    "        feature_with_p_max = p.idxmax()\n",
    "        if(pmax>0.05):\n",
    "            cols.remove(feature_with_p_max)\n",
    "        else:\n",
    "            break\n",
    "    selected_features_BE = cols\n",
    "    print(selected_features_BE)\n",
    "backwardElimination(x, y, 0.05)"
   ]
  },
  {
   "cell_type": "code",
   "execution_count": 41,
   "metadata": {},
   "outputs": [],
   "source": [
    "# drop the column num_floors\n",
    "df_drop_zeroprice = df_drop_zeroprice.drop(columns = [\"num_floors\"])\n",
    "x = x.drop(columns = [\"num_floors\"])"
   ]
  },
  {
   "cell_type": "markdown",
   "metadata": {},
   "source": [
    "Correlation"
   ]
  },
  {
   "cell_type": "code",
   "execution_count": 23,
   "metadata": {},
   "outputs": [
    {
     "data": {
      "image/png": "[encoded data removed]",
      "text/plain": [
       "<Figure size 576x504 with 2 Axes>"
      ]
     },
     "metadata": {
      "needs_background": "light"
     },
     "output_type": "display_data"
    }
   ],
   "source": [
    "#Using Pearson Correlation\n",
    "plt.figure(figsize=(8,7))\n",
    "cor = df_drop_zeroprice.corr()\n",
    "sns.heatmap(cor, annot=True, cmap=plt.cm.Reds)\n",
    "plt.show()"
   ]
  },
  {
   "cell_type": "code",
   "execution_count": 24,
   "metadata": {},
   "outputs": [
    {
     "data": {
      "text/plain": [
       "num_bedrooms    0.686463\n",
       "log_price       1.000000\n",
       "Name: log_price, dtype: float64"
      ]
     },
     "execution_count": 24,
     "metadata": {},
     "output_type": "execute_result"
    }
   ],
   "source": [
    "cor_target = abs(cor[\"log_price\"])\n",
    "#Selecting highly correlated features\n",
    "relevant_features = cor_target[cor_target>0.5]\n",
    "relevant_features"
   ]
  },
  {
   "cell_type": "code",
   "execution_count": 166,
   "metadata": {},
   "outputs": [
    {
     "name": "stdout",
     "output_type": "stream",
     "text": [
      "<class 'pandas.core.frame.DataFrame'>\n",
      "Int64Index: 5853 entries, 0 to 5867\n",
      "Data columns (total 11 columns):\n",
      "county                 5853 non-null object\n",
      "last_published_date    5853 non-null object\n",
      "latitude               5853 non-null float64\n",
      "longitude              5853 non-null float64\n",
      "num_bathrooms          5853 non-null int32\n",
      "num_bedrooms           5853 non-null int32\n",
      "num_recepts            5853 non-null int32\n",
      "outcode                5853 non-null object\n",
      "post_town              5853 non-null object\n",
      "property_type          5853 non-null object\n",
      "log_price              5853 non-null float64\n",
      "dtypes: float64(3), int32(3), object(5)\n",
      "memory usage: 480.1+ KB\n"
     ]
    }
   ],
   "source": [
    "df_drop_zeroprice.info()"
   ]
  },
  {
   "cell_type": "markdown",
   "metadata": {},
   "source": [
    "Split the train and test dataframe"
   ]
  },
  {
   "cell_type": "code",
   "execution_count": 25,
   "metadata": {},
   "outputs": [
    {
     "name": "stdout",
     "output_type": "stream",
     "text": [
      "<class 'pandas.core.frame.DataFrame'>\n",
      "Int64Index: 4682 entries, 3436 to 5171\n",
      "Columns: 144 entries, latitude to property_type_Villa\n",
      "dtypes: float64(2), int32(3), uint8(139)\n",
      "memory usage: 800.1 KB\n"
     ]
    }
   ],
   "source": [
    "feature_df = df_drop_zeroprice.drop(columns = [\"log_price\"])\n",
    "price_df = df_drop_zeroprice[[\"log_price\"]]\n",
    "\n",
    "feature_df_dummy = pd.get_dummies(feature_df, prefix_sep='_', drop_first=True)\n",
    "\n",
    "x_train, x_test, y_train, y_test = train_test_split(feature_df_dummy, price_df, test_size=0.2, random_state=1)\n",
    "\n",
    "price_df.head()\n",
    "x_train.info()"
   ]
  },
  {
   "cell_type": "code",
   "execution_count": 26,
   "metadata": {},
   "outputs": [
    {
     "data": {
      "text/html": [
       "<div>\n",
       "<style scoped>\n",
       "    .dataframe tbody tr th:only-of-type {\n",
       "        vertical-align: middle;\n",
       "    }\n",
       "\n",
       "    .dataframe tbody tr th {\n",
       "        vertical-align: top;\n",
       "    }\n",
       "\n",
       "    .dataframe thead th {\n",
       "        text-align: right;\n",
       "    }\n",
       "</style>\n",
       "<table border=\"1\" class=\"dataframe\">\n",
       "  <thead>\n",
       "    <tr style=\"text-align: right;\">\n",
       "      <th></th>\n",
       "      <th>latitude</th>\n",
       "      <th>longitude</th>\n",
       "      <th>num_bathrooms</th>\n",
       "      <th>num_bedrooms</th>\n",
       "      <th>num_recepts</th>\n",
       "      <th>county_Bristol</th>\n",
       "      <th>county_Devon</th>\n",
       "      <th>county_Dorset</th>\n",
       "      <th>county_N</th>\n",
       "      <th>county_North Somerset</th>\n",
       "      <th>...</th>\n",
       "      <th>property_type_Mobile/park home</th>\n",
       "      <th>property_type_N</th>\n",
       "      <th>property_type_Parking/garage</th>\n",
       "      <th>property_type_Semi-detached bungalow</th>\n",
       "      <th>property_type_Semi-detached house</th>\n",
       "      <th>property_type_Studio</th>\n",
       "      <th>property_type_Terraced bungalow</th>\n",
       "      <th>property_type_Terraced house</th>\n",
       "      <th>property_type_Town house</th>\n",
       "      <th>property_type_Villa</th>\n",
       "    </tr>\n",
       "  </thead>\n",
       "  <tbody>\n",
       "    <tr>\n",
       "      <th>3436</th>\n",
       "      <td>51.338020</td>\n",
       "      <td>-2.957877</td>\n",
       "      <td>2</td>\n",
       "      <td>3</td>\n",
       "      <td>1</td>\n",
       "      <td>0</td>\n",
       "      <td>0</td>\n",
       "      <td>0</td>\n",
       "      <td>0</td>\n",
       "      <td>1</td>\n",
       "      <td>...</td>\n",
       "      <td>0</td>\n",
       "      <td>0</td>\n",
       "      <td>0</td>\n",
       "      <td>0</td>\n",
       "      <td>0</td>\n",
       "      <td>0</td>\n",
       "      <td>0</td>\n",
       "      <td>1</td>\n",
       "      <td>0</td>\n",
       "      <td>0</td>\n",
       "    </tr>\n",
       "    <tr>\n",
       "      <th>2551</th>\n",
       "      <td>51.034737</td>\n",
       "      <td>-3.069013</td>\n",
       "      <td>0</td>\n",
       "      <td>3</td>\n",
       "      <td>0</td>\n",
       "      <td>0</td>\n",
       "      <td>0</td>\n",
       "      <td>0</td>\n",
       "      <td>0</td>\n",
       "      <td>0</td>\n",
       "      <td>...</td>\n",
       "      <td>0</td>\n",
       "      <td>0</td>\n",
       "      <td>0</td>\n",
       "      <td>0</td>\n",
       "      <td>1</td>\n",
       "      <td>0</td>\n",
       "      <td>0</td>\n",
       "      <td>0</td>\n",
       "      <td>0</td>\n",
       "      <td>0</td>\n",
       "    </tr>\n",
       "    <tr>\n",
       "      <th>5079</th>\n",
       "      <td>51.254253</td>\n",
       "      <td>-2.491344</td>\n",
       "      <td>1</td>\n",
       "      <td>1</td>\n",
       "      <td>1</td>\n",
       "      <td>0</td>\n",
       "      <td>0</td>\n",
       "      <td>0</td>\n",
       "      <td>0</td>\n",
       "      <td>0</td>\n",
       "      <td>...</td>\n",
       "      <td>0</td>\n",
       "      <td>0</td>\n",
       "      <td>0</td>\n",
       "      <td>0</td>\n",
       "      <td>0</td>\n",
       "      <td>0</td>\n",
       "      <td>0</td>\n",
       "      <td>0</td>\n",
       "      <td>0</td>\n",
       "      <td>0</td>\n",
       "    </tr>\n",
       "    <tr>\n",
       "      <th>1213</th>\n",
       "      <td>50.989086</td>\n",
       "      <td>-2.408865</td>\n",
       "      <td>1</td>\n",
       "      <td>3</td>\n",
       "      <td>2</td>\n",
       "      <td>0</td>\n",
       "      <td>0</td>\n",
       "      <td>0</td>\n",
       "      <td>0</td>\n",
       "      <td>0</td>\n",
       "      <td>...</td>\n",
       "      <td>0</td>\n",
       "      <td>0</td>\n",
       "      <td>0</td>\n",
       "      <td>0</td>\n",
       "      <td>0</td>\n",
       "      <td>0</td>\n",
       "      <td>0</td>\n",
       "      <td>0</td>\n",
       "      <td>0</td>\n",
       "      <td>0</td>\n",
       "    </tr>\n",
       "    <tr>\n",
       "      <th>1724</th>\n",
       "      <td>51.203728</td>\n",
       "      <td>-3.485259</td>\n",
       "      <td>2</td>\n",
       "      <td>4</td>\n",
       "      <td>1</td>\n",
       "      <td>0</td>\n",
       "      <td>0</td>\n",
       "      <td>0</td>\n",
       "      <td>0</td>\n",
       "      <td>0</td>\n",
       "      <td>...</td>\n",
       "      <td>0</td>\n",
       "      <td>0</td>\n",
       "      <td>0</td>\n",
       "      <td>0</td>\n",
       "      <td>0</td>\n",
       "      <td>0</td>\n",
       "      <td>0</td>\n",
       "      <td>0</td>\n",
       "      <td>0</td>\n",
       "      <td>0</td>\n",
       "    </tr>\n",
       "  </tbody>\n",
       "</table>\n",
       "<p>5 rows × 144 columns</p>\n",
       "</div>"
      ],
      "text/plain": [
       "       latitude  longitude  num_bathrooms  num_bedrooms  num_recepts  \\\n",
       "3436  51.338020  -2.957877              2             3            1   \n",
       "2551  51.034737  -3.069013              0             3            0   \n",
       "5079  51.254253  -2.491344              1             1            1   \n",
       "1213  50.989086  -2.408865              1             3            2   \n",
       "1724  51.203728  -3.485259              2             4            1   \n",
       "\n",
       "      county_Bristol  county_Devon  county_Dorset  county_N  \\\n",
       "3436               0             0              0         0   \n",
       "2551               0             0              0         0   \n",
       "5079               0             0              0         0   \n",
       "1213               0             0              0         0   \n",
       "1724               0             0              0         0   \n",
       "\n",
       "      county_North Somerset  ...  property_type_Mobile/park home  \\\n",
       "3436                      1  ...                               0   \n",
       "2551                      0  ...                               0   \n",
       "5079                      0  ...                               0   \n",
       "1213                      0  ...                               0   \n",
       "1724                      0  ...                               0   \n",
       "\n",
       "      property_type_N  property_type_Parking/garage  \\\n",
       "3436                0                             0   \n",
       "2551                0                             0   \n",
       "5079                0                             0   \n",
       "1213                0                             0   \n",
       "1724                0                             0   \n",
       "\n",
       "      property_type_Semi-detached bungalow  property_type_Semi-detached house  \\\n",
       "3436                                     0                                  0   \n",
       "2551                                     0                                  1   \n",
       "5079                                     0                                  0   \n",
       "1213                                     0                                  0   \n",
       "1724                                     0                                  0   \n",
       "\n",
       "      property_type_Studio  property_type_Terraced bungalow  \\\n",
       "3436                     0                                0   \n",
       "2551                     0                                0   \n",
       "5079                     0                                0   \n",
       "1213                     0                                0   \n",
       "1724                     0                                0   \n",
       "\n",
       "      property_type_Terraced house  property_type_Town house  \\\n",
       "3436                             1                         0   \n",
       "2551                             0                         0   \n",
       "5079                             0                         0   \n",
       "1213                             0                         0   \n",
       "1724                             0                         0   \n",
       "\n",
       "      property_type_Villa  \n",
       "3436                    0  \n",
       "2551                    0  \n",
       "5079                    0  \n",
       "1213                    0  \n",
       "1724                    0  \n",
       "\n",
       "[5 rows x 144 columns]"
      ]
     },
     "execution_count": 26,
     "metadata": {},
     "output_type": "execute_result"
    }
   ],
   "source": [
    "x_train.head()"
   ]
  },
  {
   "cell_type": "markdown",
   "metadata": {},
   "source": [
    "Linear regression analysis"
   ]
  },
  {
   "cell_type": "markdown",
   "metadata": {},
   "source": [
    "Best prediction"
   ]
  },
  {
   "cell_type": "code",
   "execution_count": 60,
   "metadata": {},
   "outputs": [],
   "source": [
    "def pred_score(df_pred, df_test):\n",
    "    count = 0\n",
    "    for i in range(0, len(df_pred)):\n",
    "        if np.exp(np.array(df_pred)[i][0]) >= np.exp(np.array(df_test)[i][0])*0.8 and  np.exp(np.array(df_pred)[i][0]) <= np.exp(np.array(df_test)[i][0])*1.2:\n",
    "            count += 1\n",
    "    return count/len(df_pred)\n",
    "\n"
   ]
  },
  {
   "cell_type": "code",
   "execution_count": 58,
   "metadata": {},
   "outputs": [
    {
     "data": {
      "text/plain": [
       "array([ 2.71828183,  7.3890561 , 20.08553692])"
      ]
     },
     "execution_count": 58,
     "metadata": {},
     "output_type": "execute_result"
    }
   ],
   "source": [
    "np.exp([1,2,3])"
   ]
  },
  {
   "cell_type": "markdown",
   "metadata": {},
   "source": [
    "Model Score"
   ]
  },
  {
   "cell_type": "code",
   "execution_count": 29,
   "metadata": {},
   "outputs": [
    {
     "name": "stdout",
     "output_type": "stream",
     "text": [
      "0.7218052628248336\n"
     ]
    }
   ],
   "source": [
    "# y_test = ravel(y_test)\n",
    "# x_train.head()\n",
    "x_test.head()\n",
    "score_list = []\n",
    "for i in range(100):\n",
    "    x_train, x_test, y_train, y_test = train_test_split(feature_df_dummy, price_df, test_size=0.2)\n",
    "    lr = LinearRegression()\n",
    "    lr.fit(x_train, y_train)\n",
    "    score_list.append(lr.score(x_test, y_test))\n",
    "print(max(score_list))"
   ]
  },
  {
   "cell_type": "markdown",
   "metadata": {},
   "source": [
    "Predict Score"
   ]
  },
  {
   "cell_type": "code",
   "execution_count": 62,
   "metadata": {},
   "outputs": [
    {
     "name": "stdout",
     "output_type": "stream",
     "text": [
      "0.6242527754056362\n"
     ]
    }
   ],
   "source": [
    "pred_list = []\n",
    "for i in range(100):\n",
    "    x_train, x_test, y_train, y_test = train_test_split(feature_df_dummy, price_df, test_size=0.2)\n",
    "    lr = LinearRegression()\n",
    "    lr.fit(x_train, y_train)\n",
    "    pred = lr.predict(x_test)\n",
    "    pred_list.append(pred_score(pred, y_test))\n",
    "print(max(pred_list))"
   ]
  },
  {
   "cell_type": "code",
   "execution_count": 158,
   "metadata": {},
   "outputs": [],
   "source": [
    "error_list = []\n",
    "x_train, x_test, y_train, y_test = train_test_split(feature_df_dummy, price_df, test_size=0.2, random_state=42)\n",
    "lr = LinearRegression()\n",
    "lr.fit(x_train, y_train)\n",
    "pred = lr.predict(x_test)\n",
    "for i in range(0, len(y_test)):\n",
    "    error_list.append(np.exp(np.array(pred)[i][0]) - np.exp(np.array(y_test)[i][0]))"
   ]
  },
  {
   "cell_type": "code",
   "execution_count": 160,
   "metadata": {},
   "outputs": [
    {
     "data": {
      "text/plain": [
       "(array([-2000000., -1500000., -1000000.,  -500000.,        0.,   500000.,\n",
       "         1000000.,  1500000.,  2000000.]),\n",
       " <a list of 9 Text xticklabel objects>)"
      ]
     },
     "execution_count": 160,
     "metadata": {},
     "output_type": "execute_result"
    },
    {
     "data": {
      "image/png": "[encoded data removed]",
      "text/plain": [
       "<Figure size 432x288 with 1 Axes>"
      ]
     },
     "metadata": {
      "needs_background": "light"
     },
     "output_type": "display_data"
    }
   ],
   "source": [
    "error_list = np.array(error_list)\n",
    "error_list[error_list >= 1E308] = 0\n",
    "s = sns.distplot(error_list, color = 'red', hist=True, kde=True, bins=int(180/5))\n",
    "# s.set_xticklabels(s.get_xticklabels(),rotation=30)\n",
    "# plt.setp(s.get_xticklabels(), rotation=45)\n",
    "plt.xticks(rotation=45)"
   ]
  },
  {
   "cell_type": "markdown",
   "metadata": {},
   "source": [
    "Ridge regression"
   ]
  },
  {
   "cell_type": "code",
   "execution_count": 45,
   "metadata": {},
   "outputs": [],
   "source": [
    "# Standarize features\n",
    "scaler = StandardScaler()\n",
    "x= x_train.astype(float)\n",
    "x_std = scaler.fit_transform(x)\n",
    "# x.head()"
   ]
  },
  {
   "cell_type": "code",
   "execution_count": 46,
   "metadata": {},
   "outputs": [
    {
     "data": {
      "text/plain": [
       "9.07"
      ]
     },
     "execution_count": 46,
     "metadata": {},
     "output_type": "execute_result"
    }
   ],
   "source": [
    "#Set the different values of alpha to be tested\n",
    "alphas = np.arange(0.01, 10, 0.01).tolist()\n",
    "alpha_ridge = RidgeCV(alphas)\n",
    "# Fit the linear regression\n",
    "model_cv = alpha_ridge.fit(x_std, y_train)\n",
    "#best alpha\n",
    "best_a = model_cv.alpha_\n",
    "best_a"
   ]
  },
  {
   "cell_type": "markdown",
   "metadata": {},
   "source": [
    "Model socre"
   ]
  },
  {
   "cell_type": "code",
   "execution_count": 48,
   "metadata": {},
   "outputs": [
    {
     "name": "stdout",
     "output_type": "stream",
     "text": [
      "0.7288268259388152\n"
     ]
    }
   ],
   "source": [
    "score_list = []\n",
    "for i in range(100):\n",
    "    x_train, x_test, y_train, y_test = train_test_split(feature_df_dummy, price_df, test_size=0.2)\n",
    "    rr = Ridge(alpha=best_a)\n",
    "    rr.fit(x_train, y_train)\n",
    "    score_list.append(rr.score(x_test, y_test))\n",
    "print(max(score_list))"
   ]
  },
  {
   "cell_type": "markdown",
   "metadata": {},
   "source": [
    "Predict Score"
   ]
  },
  {
   "cell_type": "code",
   "execution_count": 64,
   "metadata": {},
   "outputs": [
    {
     "name": "stdout",
     "output_type": "stream",
     "text": [
      "0.6353543979504697\n"
     ]
    }
   ],
   "source": [
    "pred_list = []\n",
    "for i in range(100):\n",
    "    x_train, x_test, y_train, y_test = train_test_split(feature_df_dummy, price_df, test_size=0.2)\n",
    "    rr = Ridge(alpha=best_a)\n",
    "    rr.fit(x_train, y_train)\n",
    "    pred = rr.predict(x_test)\n",
    "    pred_list.append(pred_score(pred, y_test))\n",
    "print(max(pred_list))"
   ]
  },
  {
   "cell_type": "markdown",
   "metadata": {},
   "source": [
    "Error plot"
   ]
  },
  {
   "cell_type": "code",
   "execution_count": 163,
   "metadata": {},
   "outputs": [],
   "source": [
    "error_list = []\n",
    "x_train, x_test, y_train, y_test = train_test_split(feature_df_dummy, price_df, test_size=0.2, random_state=42)\n",
    "rr = Ridge(alpha=best_a)\n",
    "rr.fit(x_train, y_train)\n",
    "pred = rr.predict(x_test)\n",
    "for i in range(0, len(y_test)):\n",
    "    error_list.append(np.exp(np.array(pred)[i][0]) - np.exp(np.array(y_test)[i][0]))"
   ]
  },
  {
   "cell_type": "code",
   "execution_count": 164,
   "metadata": {},
   "outputs": [
    {
     "data": {
      "text/plain": [
       "(array([-2000000., -1500000., -1000000.,  -500000.,        0.,   500000.,\n",
       "         1000000.,  1500000.,  2000000.,  2500000.]),\n",
       " <a list of 10 Text xticklabel objects>)"
      ]
     },
     "execution_count": 164,
     "metadata": {},
     "output_type": "execute_result"
    },
    {
     "data": {
      "image/png": "[encoded data removed]",
      "text/plain": [
       "<Figure size 432x288 with 1 Axes>"
      ]
     },
     "metadata": {
      "needs_background": "light"
     },
     "output_type": "display_data"
    }
   ],
   "source": [
    "error_list = np.array(error_list)\n",
    "error_list[error_list >= 1E308] = 0\n",
    "s = sns.distplot(error_list, color = 'red', hist=True, kde=True, bins=int(180/5))\n",
    "# s.set_xticklabels(s.get_xticklabels(),rotation=30)\n",
    "# plt.setp(s.get_xticklabels(), rotation=45)\n",
    "plt.xticks(rotation=45)"
   ]
  }
 ],
 "metadata": {
  "kernelspec": {
   "display_name": "Python 3",
   "language": "python",
   "name": "python3"
  },
  "language_info": {
   "codemirror_mode": {
    "name": "ipython",
    "version": 3
   },
   "file_extension": ".py",
   "mimetype": "text/x-python",
   "name": "python",
   "nbconvert_exporter": "python",
   "pygments_lexer": "ipython3",
   "version": "3.7.3"
  }
 },
 "nbformat": 4,
 "nbformat_minor": 2
}
